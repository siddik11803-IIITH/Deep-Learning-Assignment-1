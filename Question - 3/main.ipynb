{
 "cells": [
  {
   "cell_type": "markdown",
   "metadata": {},
   "source": [
    "# Question - 3"
   ]
  },
  {
   "cell_type": "code",
   "execution_count": 198,
   "metadata": {},
   "outputs": [],
   "source": [
    "import numpy as np\n",
    "import pickle as pkl\n",
    "import pandas as pd\n",
    "import matplotlib.pyplot as plot\n",
    "import random\n",
    "from mpl_toolkits import mplot3d\n",
    "import matplotlib.axes as axes"
   ]
  },
  {
   "cell_type": "markdown",
   "metadata": {},
   "source": [
    "### Generating The Function points for the plot"
   ]
  },
  {
   "cell_type": "code",
   "execution_count": 199,
   "metadata": {},
   "outputs": [],
   "source": [
    "def q3_function(parameters):\n",
    "    x = parameters[0]\n",
    "    y = parameters[1]\n",
    "    t = x**2 + y**2\n",
    "    return (50/9*(t**3) - 209/18*(t**2) + 59/9*(t))\n",
    "def gradient_function(parameters):\n",
    "    x = parameters[0]\n",
    "    y = parameters[1]\n",
    "    t = x**2 + y**2\n",
    "    t_dx = x*2 \n",
    "    t_dy = y*2\n",
    "    f_dt = (150*(t**2) - 209*t + 59)/9\n",
    "    return np.array([t_dx*f_dt, t_dy*f_dt])\n",
    "def generate_points(n, t):\n",
    "    '''\n",
    "    We shall use this function to generate the points with random initialisation \n",
    "    as mentioned in the question. We shall take the points from the range ...\n",
    "    [-10, 10]^2\n",
    "    x is the 1st argument\n",
    "    y is the 2nd argument\n",
    "    '''\n",
    "    training_set_x = []\n",
    "    training_set_y = []\n",
    "    for i in range(n):\n",
    "        training_set_x += [[random.uniform(-t, t), random.uniform(-t, t)]]\n",
    "        training_set_y += [q3_function(training_set_x[i])]\n",
    "    training_set_y = np.array(training_set_y)\n",
    "    training_set_x = np.array(training_set_x)\n",
    "    return training_set_x, training_set_y\n",
    "data_points = 500\n",
    "t = 3\n",
    "training_set_x, training_set_y = generate_points(data_points, t)"
   ]
  },
  {
   "cell_type": "code",
   "execution_count": 200,
   "metadata": {},
   "outputs": [
    {
     "data": {
      "text/html": [
       "<div>\n",
       "<style scoped>\n",
       "    .dataframe tbody tr th:only-of-type {\n",
       "        vertical-align: middle;\n",
       "    }\n",
       "\n",
       "    .dataframe tbody tr th {\n",
       "        vertical-align: top;\n",
       "    }\n",
       "\n",
       "    .dataframe thead th {\n",
       "        text-align: right;\n",
       "    }\n",
       "</style>\n",
       "<table border=\"1\" class=\"dataframe\">\n",
       "  <thead>\n",
       "    <tr style=\"text-align: right;\">\n",
       "      <th></th>\n",
       "      <th>0</th>\n",
       "    </tr>\n",
       "  </thead>\n",
       "  <tbody>\n",
       "    <tr>\n",
       "      <th>0</th>\n",
       "      <td>19.654566</td>\n",
       "    </tr>\n",
       "    <tr>\n",
       "      <th>1</th>\n",
       "      <td>1154.836672</td>\n",
       "    </tr>\n",
       "    <tr>\n",
       "      <th>2</th>\n",
       "      <td>5538.738575</td>\n",
       "    </tr>\n",
       "    <tr>\n",
       "      <th>3</th>\n",
       "      <td>671.928434</td>\n",
       "    </tr>\n",
       "    <tr>\n",
       "      <th>4</th>\n",
       "      <td>237.280566</td>\n",
       "    </tr>\n",
       "    <tr>\n",
       "      <th>...</th>\n",
       "      <td>...</td>\n",
       "    </tr>\n",
       "    <tr>\n",
       "      <th>495</th>\n",
       "      <td>414.598384</td>\n",
       "    </tr>\n",
       "    <tr>\n",
       "      <th>496</th>\n",
       "      <td>77.792748</td>\n",
       "    </tr>\n",
       "    <tr>\n",
       "      <th>497</th>\n",
       "      <td>12163.908987</td>\n",
       "    </tr>\n",
       "    <tr>\n",
       "      <th>498</th>\n",
       "      <td>1869.258644</td>\n",
       "    </tr>\n",
       "    <tr>\n",
       "      <th>499</th>\n",
       "      <td>1174.247296</td>\n",
       "    </tr>\n",
       "  </tbody>\n",
       "</table>\n",
       "<p>500 rows × 1 columns</p>\n",
       "</div>"
      ],
      "text/plain": [
       "                0\n",
       "0       19.654566\n",
       "1     1154.836672\n",
       "2     5538.738575\n",
       "3      671.928434\n",
       "4      237.280566\n",
       "..            ...\n",
       "495    414.598384\n",
       "496     77.792748\n",
       "497  12163.908987\n",
       "498   1869.258644\n",
       "499   1174.247296\n",
       "\n",
       "[500 rows x 1 columns]"
      ]
     },
     "execution_count": 200,
     "metadata": {},
     "output_type": "execute_result"
    }
   ],
   "source": [
    "pd.DataFrame(training_set_y)"
   ]
  },
  {
   "cell_type": "code",
   "execution_count": 201,
   "metadata": {},
   "outputs": [
    {
     "data": {
      "text/html": [
       "<div>\n",
       "<style scoped>\n",
       "    .dataframe tbody tr th:only-of-type {\n",
       "        vertical-align: middle;\n",
       "    }\n",
       "\n",
       "    .dataframe tbody tr th {\n",
       "        vertical-align: top;\n",
       "    }\n",
       "\n",
       "    .dataframe thead th {\n",
       "        text-align: right;\n",
       "    }\n",
       "</style>\n",
       "<table border=\"1\" class=\"dataframe\">\n",
       "  <thead>\n",
       "    <tr style=\"text-align: right;\">\n",
       "      <th></th>\n",
       "      <th>0</th>\n",
       "      <th>1</th>\n",
       "    </tr>\n",
       "  </thead>\n",
       "  <tbody>\n",
       "    <tr>\n",
       "      <th>0</th>\n",
       "      <td>-0.980258</td>\n",
       "      <td>-1.139948</td>\n",
       "    </tr>\n",
       "    <tr>\n",
       "      <th>1</th>\n",
       "      <td>-1.392625</td>\n",
       "      <td>2.166835</td>\n",
       "    </tr>\n",
       "    <tr>\n",
       "      <th>2</th>\n",
       "      <td>-2.361852</td>\n",
       "      <td>-2.262066</td>\n",
       "    </tr>\n",
       "    <tr>\n",
       "      <th>3</th>\n",
       "      <td>1.897959</td>\n",
       "      <td>-1.434019</td>\n",
       "    </tr>\n",
       "    <tr>\n",
       "      <th>4</th>\n",
       "      <td>1.815693</td>\n",
       "      <td>-0.958026</td>\n",
       "    </tr>\n",
       "    <tr>\n",
       "      <th>...</th>\n",
       "      <td>...</td>\n",
       "      <td>...</td>\n",
       "    </tr>\n",
       "    <tr>\n",
       "      <th>495</th>\n",
       "      <td>-1.011365</td>\n",
       "      <td>-1.975628</td>\n",
       "    </tr>\n",
       "    <tr>\n",
       "      <th>496</th>\n",
       "      <td>-1.493989</td>\n",
       "      <td>0.951245</td>\n",
       "    </tr>\n",
       "    <tr>\n",
       "      <th>497</th>\n",
       "      <td>2.560921</td>\n",
       "      <td>2.670271</td>\n",
       "    </tr>\n",
       "    <tr>\n",
       "      <th>498</th>\n",
       "      <td>-2.016562</td>\n",
       "      <td>1.896744</td>\n",
       "    </tr>\n",
       "    <tr>\n",
       "      <th>499</th>\n",
       "      <td>1.437315</td>\n",
       "      <td>2.145143</td>\n",
       "    </tr>\n",
       "  </tbody>\n",
       "</table>\n",
       "<p>500 rows × 2 columns</p>\n",
       "</div>"
      ],
      "text/plain": [
       "            0         1\n",
       "0   -0.980258 -1.139948\n",
       "1   -1.392625  2.166835\n",
       "2   -2.361852 -2.262066\n",
       "3    1.897959 -1.434019\n",
       "4    1.815693 -0.958026\n",
       "..        ...       ...\n",
       "495 -1.011365 -1.975628\n",
       "496 -1.493989  0.951245\n",
       "497  2.560921  2.670271\n",
       "498 -2.016562  1.896744\n",
       "499  1.437315  2.145143\n",
       "\n",
       "[500 rows x 2 columns]"
      ]
     },
     "execution_count": 201,
     "metadata": {},
     "output_type": "execute_result"
    }
   ],
   "source": [
    "pd.DataFrame(training_set_x)"
   ]
  },
  {
   "cell_type": "code",
   "execution_count": 202,
   "metadata": {},
   "outputs": [
    {
     "data": {
      "text/html": [
       "<div>\n",
       "<style scoped>\n",
       "    .dataframe tbody tr th:only-of-type {\n",
       "        vertical-align: middle;\n",
       "    }\n",
       "\n",
       "    .dataframe tbody tr th {\n",
       "        vertical-align: top;\n",
       "    }\n",
       "\n",
       "    .dataframe thead th {\n",
       "        text-align: right;\n",
       "    }\n",
       "</style>\n",
       "<table border=\"1\" class=\"dataframe\">\n",
       "  <thead>\n",
       "    <tr style=\"text-align: right;\">\n",
       "      <th></th>\n",
       "      <th>x</th>\n",
       "      <th>y</th>\n",
       "      <th>function</th>\n",
       "    </tr>\n",
       "  </thead>\n",
       "  <tbody>\n",
       "    <tr>\n",
       "      <th>0</th>\n",
       "      <td>-0.980258</td>\n",
       "      <td>-1.139948</td>\n",
       "      <td>19.654566</td>\n",
       "    </tr>\n",
       "    <tr>\n",
       "      <th>1</th>\n",
       "      <td>-0.980258</td>\n",
       "      <td>2.166835</td>\n",
       "      <td>670.875588</td>\n",
       "    </tr>\n",
       "    <tr>\n",
       "      <th>2</th>\n",
       "      <td>-0.980258</td>\n",
       "      <td>-2.262066</td>\n",
       "      <td>858.244615</td>\n",
       "    </tr>\n",
       "    <tr>\n",
       "      <th>3</th>\n",
       "      <td>-0.980258</td>\n",
       "      <td>-1.434019</td>\n",
       "      <td>66.682729</td>\n",
       "    </tr>\n",
       "    <tr>\n",
       "      <th>4</th>\n",
       "      <td>-0.980258</td>\n",
       "      <td>-0.958026</td>\n",
       "      <td>8.173092</td>\n",
       "    </tr>\n",
       "    <tr>\n",
       "      <th>...</th>\n",
       "      <td>...</td>\n",
       "      <td>...</td>\n",
       "      <td>...</td>\n",
       "    </tr>\n",
       "    <tr>\n",
       "      <th>249995</th>\n",
       "      <td>1.437315</td>\n",
       "      <td>-1.975628</td>\n",
       "      <td>806.925099</td>\n",
       "    </tr>\n",
       "    <tr>\n",
       "      <th>249996</th>\n",
       "      <td>1.437315</td>\n",
       "      <td>0.951245</td>\n",
       "      <td>62.657172</td>\n",
       "    </tr>\n",
       "    <tr>\n",
       "      <th>249997</th>\n",
       "      <td>1.437315</td>\n",
       "      <td>2.670271</td>\n",
       "      <td>3399.045814</td>\n",
       "    </tr>\n",
       "    <tr>\n",
       "      <th>249998</th>\n",
       "      <td>1.437315</td>\n",
       "      <td>1.896744</td>\n",
       "      <td>673.914868</td>\n",
       "    </tr>\n",
       "    <tr>\n",
       "      <th>249999</th>\n",
       "      <td>1.437315</td>\n",
       "      <td>2.145143</td>\n",
       "      <td>1174.247296</td>\n",
       "    </tr>\n",
       "  </tbody>\n",
       "</table>\n",
       "<p>250000 rows × 3 columns</p>\n",
       "</div>"
      ],
      "text/plain": [
       "               x         y     function\n",
       "0      -0.980258 -1.139948    19.654566\n",
       "1      -0.980258  2.166835   670.875588\n",
       "2      -0.980258 -2.262066   858.244615\n",
       "3      -0.980258 -1.434019    66.682729\n",
       "4      -0.980258 -0.958026     8.173092\n",
       "...          ...       ...          ...\n",
       "249995  1.437315 -1.975628   806.925099\n",
       "249996  1.437315  0.951245    62.657172\n",
       "249997  1.437315  2.670271  3399.045814\n",
       "249998  1.437315  1.896744   673.914868\n",
       "249999  1.437315  2.145143  1174.247296\n",
       "\n",
       "[250000 rows x 3 columns]"
      ]
     },
     "execution_count": 202,
     "metadata": {},
     "output_type": "execute_result"
    }
   ],
   "source": [
    "def plot_points(training_set_x, training_set_y):\n",
    "    # fig = plot.figure()\n",
    "    # ax = plot.axes(projection = '3d', )\n",
    "    # ax.scatter3D([i[0] for i in training_set_x], [i[1] for i in training_set_x], training_set_y, color = 'black')\n",
    "    z = []\n",
    "    for i in range(len(training_set_x)):\n",
    "        for j in range(len(training_set_x)):\n",
    "            temp_dict = dict()\n",
    "            temp_dict['x'] = training_set_x[i][0]\n",
    "            temp_dict['y'] = training_set_x[j][1]\n",
    "            temp_dict['function'] = q3_function(np.array([training_set_x[i][0], training_set_x[j][1]]))\n",
    "            z += [temp_dict]\n",
    "    return z\n",
    "temp = pd.DataFrame(plot_points(training_set_x, training_set_y))\n",
    "temp"
   ]
  },
  {
   "cell_type": "code",
   "execution_count": 203,
   "metadata": {},
   "outputs": [
    {
     "data": {
      "image/png": "[encoded data removed]",
      "text/plain": [
       "<Figure size 640x480 with 1 Axes>"
      ]
     },
     "metadata": {},
     "output_type": "display_data"
    }
   ],
   "source": [
    "fig = plot.figure()\n",
    "ax = plot.axes(projection='3d',)\n",
    "plot.plot(0, 0, 0, 'ro')\n",
    "ax.scatter3D(list(temp['x']), list(temp['y']), list(temp['function']))\n",
    "plot.savefig('./function_plot.png')\n",
    "plot.show()"
   ]
  },
  {
   "cell_type": "code",
   "execution_count": 204,
   "metadata": {},
   "outputs": [
    {
     "data": {
      "image/png": "[encoded data removed]",
      "text/plain": [
       "<Figure size 640x480 with 1 Axes>"
      ]
     },
     "metadata": {},
     "output_type": "display_data"
    }
   ],
   "source": [
    "fig = plot.figure()\n",
    "plot.plot(0, 0, 0, 'ro')\n",
    "plot.tricontourf(list(temp['x']), list(temp['y']), list(temp['function']))\n",
    "plot.savefig('./contour_plot.png')\n",
    "plot.show()"
   ]
  },
  {
   "cell_type": "code",
   "execution_count": 205,
   "metadata": {},
   "outputs": [],
   "source": [
    "def contour_plot(seq_1, loss_seq_1, ground_truth):\n",
    "    fig = plot.figure()\n",
    "    ax = plot.axes()\n",
    "    x = list(seq_1[0])\n",
    "    y = list(seq_1[1])\n",
    "    z = loss_seq_1\n",
    "    plot.plot(ground_truth[0], ground_truth[1], 'yo')\n",
    "    plot.tricontourf(list(temp['x']), list(temp['y']), list(temp['function']))\n",
    "    for i in range(len(seq_1)-1):\n",
    "        plot.arrow(x=x[i], y =y[i], dx = x[i+1] - x[i], dy = y[i+1] - y[i], width=0.01)\n",
    "    plot.tight_layout()\n",
    "    plot.show()"
   ]
  },
  {
   "cell_type": "markdown",
   "metadata": {},
   "source": [
    "### Question - 3.1 - Gradient Descent\n",
    "#### Parameters"
   ]
  },
  {
   "cell_type": "code",
   "execution_count": 206,
   "metadata": {},
   "outputs": [],
   "source": [
    "epochs = 10000\n",
    "learning_rate = 0.001 # Is kind of safe learning rate\n",
    "max_limit_1 = 2\n",
    "# w_init = np.array([random.uniform(-1*max_limit_1, max_limit_1), random.uniform(-1*max_limit_1, max_limit_1)])\n",
    "w_init = np.array([0.45, 0.25])\n",
    "tolerence = 0.0001"
   ]
  },
  {
   "cell_type": "code",
   "execution_count": 207,
   "metadata": {},
   "outputs": [],
   "source": [
    "def gradient_descent_step(weight_now, learning_rate, tolerence):\n",
    "    gradient = gradient_function(weight_now)\n",
    "    weight_new = weight_now - learning_rate*gradient\n",
    "    loss = q3_function(weight_new)\n",
    "    if(loss < tolerence):\n",
    "        print(\"Loss: \", loss)\n",
    "        return weight_new, loss, 0\n",
    "    return weight_new, loss, 1"
   ]
  },
  {
   "cell_type": "markdown",
   "metadata": {},
   "source": [
    "#### Performance"
   ]
  },
  {
   "cell_type": "code",
   "execution_count": 208,
   "metadata": {},
   "outputs": [
    {
     "name": "stdout",
     "output_type": "stream",
     "text": [
      "Initial Parameters:\n",
      "[0.45 0.25]\n",
      "Loss:  9.833727258934972e-05\n",
      "Epochs:  434\n",
      "Final Paramters\n"
     ]
    }
   ],
   "source": [
    "w_now = w_init\n",
    "print(\"Initial Parameters:\")\n",
    "print(w_init)\n",
    "seq_1 = []\n",
    "loss_seq_1 = []\n",
    "for i in range(epochs):\n",
    "    seq_1 += [w_now]\n",
    "    w_now, loss, cont = gradient_descent_step(w_now, learning_rate=learning_rate, tolerence=tolerence)\n",
    "    loss_seq_1 += [loss]\n",
    "    if(not cont):\n",
    "        print(\"Epochs: \", i+1)\n",
    "        break\n",
    "if(cont):\n",
    "    print(\"Epochs\", epochs)\n",
    "print(\"Final Paramters\")\n",
    "\n"
   ]
  },
  {
   "cell_type": "code",
   "execution_count": 209,
   "metadata": {},
   "outputs": [
    {
     "data": {
      "image/png": "[encoded data removed]",
      "text/plain": [
       "<Figure size 640x480 with 1 Axes>"
      ]
     },
     "metadata": {},
     "output_type": "display_data"
    }
   ],
   "source": [
    "if(not cont):\n",
    "    seq_1 = pd.DataFrame(seq_1)\n",
    "    ground_truth = [0, 0]\n",
    "    contour_plot(seq_1, loss_seq_1, ground_truth)"
   ]
  },
  {
   "cell_type": "markdown",
   "metadata": {},
   "source": [
    "### Question - 3.2 - Polyak Momentum Update\n",
    "#### Parameters"
   ]
  },
  {
   "cell_type": "code",
   "execution_count": 210,
   "metadata": {},
   "outputs": [],
   "source": [
    "epochs = 10000\n",
    "learning_rate = 0.001\n",
    "beta = 0.8\n",
    "tolerence = 0.0001\n",
    "max_limit_2 = 1\n",
    "w_init = w_init\n",
    "mom_init = np.array([0, 0])"
   ]
  },
  {
   "cell_type": "code",
   "execution_count": 211,
   "metadata": {},
   "outputs": [],
   "source": [
    "def polyak_update(w_now, mom_now, learning_rate, beta, tolerence):\n",
    "    '''\n",
    "    For a given value of weight, momentum, it does a polyak momentum\n",
    "    and returns the new weight, momentum, and loss\n",
    "    '''\n",
    "    mom_new = beta*mom_now - learning_rate*gradient_function(w_now)\n",
    "    w_new = w_now + mom_new\n",
    "    loss = q3_function(w_new)\n",
    "    if(loss < tolerence):\n",
    "        print(\"Loss: \")\n",
    "        print(loss)\n",
    "        return w_new, mom_new, loss, 0\n",
    "    return w_new, mom_new, loss, 1"
   ]
  },
  {
   "cell_type": "markdown",
   "metadata": {},
   "source": [
    "#### Performance"
   ]
  },
  {
   "cell_type": "code",
   "execution_count": 212,
   "metadata": {},
   "outputs": [
    {
     "name": "stdout",
     "output_type": "stream",
     "text": [
      "Initial Paramters: \n",
      "[0.45 0.25]\n",
      "Loss: \n",
      "7.443669102996137e-05\n",
      "Epochs: 69\n",
      "Final Parameters:\n",
      "[0.00294566 0.00163648]\n"
     ]
    }
   ],
   "source": [
    "seq_2 = []\n",
    "loss_seq_2 = []\n",
    "w_now = w_init\n",
    "mom_now = mom_init\n",
    "print(\"Initial Paramters: \")\n",
    "print(w_init)\n",
    "for i in range(epochs):\n",
    "    seq_2 += [w_now]\n",
    "    w_now, mom_now, loss, cont = polyak_update(w_now, mom_now, learning_rate, beta, tolerence)\n",
    "    loss_seq_2 += [loss]\n",
    "    if(not cont):\n",
    "        print(\"Epochs:\", i+1)\n",
    "        break\n",
    "if(cont):\n",
    "    print(\"Epochs:\", loss)\n",
    "print(\"Final Parameters:\")\n",
    "print(w_now)"
   ]
  },
  {
   "cell_type": "code",
   "execution_count": 213,
   "metadata": {},
   "outputs": [
    {
     "data": {
      "image/png": "[encoded data removed]",
      "text/plain": [
       "<Figure size 640x480 with 1 Axes>"
      ]
     },
     "metadata": {},
     "output_type": "display_data"
    }
   ],
   "source": [
    "if(not cont):\n",
    "    ground_truth = [0, 0]\n",
    "    seq_2 = pd.DataFrame(seq_2)\n",
    "    contour_plot(seq_2, loss_seq_1, ground_truth)"
   ]
  },
  {
   "cell_type": "markdown",
   "metadata": {},
   "source": [
    "### Question  - 3.3. - Nesterov Accelerated Gradient\n",
    "#### Parameters"
   ]
  },
  {
   "cell_type": "code",
   "execution_count": 214,
   "metadata": {},
   "outputs": [],
   "source": [
    "epochs = 10000\n",
    "learning_rate = 0.0009\n",
    "beta = 0.8\n",
    "w_now = w_init\n",
    "tolerence = 0.001\n",
    "mom_init = np.array([0, 0])\n",
    "mom_now = mom_init"
   ]
  },
  {
   "cell_type": "code",
   "execution_count": 215,
   "metadata": {},
   "outputs": [],
   "source": [
    "def nesterov_update(w_now, mom_now, learning_rate, beta, tolerence):\n",
    "    mom_new = beta*mom_now - learning_rate*gradient_function(w_now + beta*mom_now)\n",
    "    w_new = w_now + mom_new\n",
    "    loss = q3_function(w_new)\n",
    "    if(loss < tolerence):\n",
    "        print(\"Loss: \")\n",
    "        print(loss)\n",
    "        return w_new, mom_new, loss, 0\n",
    "    return w_new, mom_new, loss, 1"
   ]
  },
  {
   "cell_type": "markdown",
   "metadata": {},
   "source": [
    "#### Performance"
   ]
  },
  {
   "cell_type": "code",
   "execution_count": 216,
   "metadata": {},
   "outputs": [
    {
     "name": "stdout",
     "output_type": "stream",
     "text": [
      "Initial Paramters:\n",
      "[0.45 0.25]\n",
      "Loss: \n",
      "0.0008732592568543853\n",
      "Epochs:  71\n",
      "Final Parameters\n",
      "[0.01009038 0.00560577]\n"
     ]
    }
   ],
   "source": [
    "seq_3 = []\n",
    "loss_seq_3 = []\n",
    "print(\"Initial Paramters:\")\n",
    "print(w_now)\n",
    "for i in range(epochs):\n",
    "    seq_3 += [w_now]\n",
    "    w_now, mom_now, loss, cont = nesterov_update(w_now, mom_now, learning_rate, beta, tolerence)\n",
    "    loss_seq_3 += [loss]\n",
    "    if(not cont):\n",
    "        print(\"Epochs: \", i+1)\n",
    "        break\n",
    "if(cont):\n",
    "    print(\"Epochs:\", epochs)\n",
    "print(\"Final Parameters\")\n",
    "print(w_now)"
   ]
  },
  {
   "cell_type": "code",
   "execution_count": 217,
   "metadata": {},
   "outputs": [
    {
     "data": {
      "image/png": "[encoded data removed]",
      "text/plain": [
       "<Figure size 640x480 with 1 Axes>"
      ]
     },
     "metadata": {},
     "output_type": "display_data"
    }
   ],
   "source": [
    "if(not cont):\n",
    "    ground_truth = [0, 0]\n",
    "    seq_3 = pd.DataFrame(seq_3)\n",
    "    contour_plot(seq_3, loss_seq_3, ground_truth)"
   ]
  },
  {
   "cell_type": "markdown",
   "metadata": {},
   "source": [
    "### Question - 3.4 - Adam Optimizer\n",
    "#### Parameters"
   ]
  },
  {
   "cell_type": "code",
   "execution_count": 249,
   "metadata": {},
   "outputs": [],
   "source": [
    "beta_1 = 0.9\n",
    "beta_2 = 0.999\n",
    "epsilon = 1e-08\n",
    "learning_rate = 0.22\n",
    "w_now = w_init\n",
    "# w_now = np.array([0.5, 0])\n",
    "mom_now = mom_init\n",
    "mom_s_now = np.array([0, 0])\n",
    "tolerence = 0.001"
   ]
  },
  {
   "cell_type": "code",
   "execution_count": 250,
   "metadata": {},
   "outputs": [],
   "source": [
    "def adam_update(w_now, mom_now, mom_s_now, learning_rate, tolerence, beta_1, beta_2, epsilon, iteration):\n",
    "    gradient = gradient_function(w_now)\n",
    "    mom_new = beta_1*mom_now + (1- beta_1)*(gradient)\n",
    "    mom_s_new = beta_2*(mom_s_now) + (1 - beta_2)*(gradient**2)\n",
    "    w_new = [0]*len(w_now)\n",
    "    for i in range(len(w_new)):\n",
    "        w_new[i] = w_now[i] - (learning_rate*(mom_new[i])/(np.sqrt(mom_s_new[i]) + epsilon))\n",
    "    # print(w_new)\n",
    "    w_new = np.array(w_new)\n",
    "    # w_new = w_now - learning_rate*(alpha*mom_new)/(np.sqrt(mom_s_new + epsilon))\n",
    "    loss = q3_function(w_new)\n",
    "    if(loss < tolerence):\n",
    "        print(\"Loss:\")\n",
    "        print(loss)\n",
    "        return w_new, mom_new, mom_s_new,loss, 0\n",
    "    return w_new, mom_new, mom_s_new,loss,  1"
   ]
  },
  {
   "cell_type": "markdown",
   "metadata": {},
   "source": [
    "#### Performance"
   ]
  },
  {
   "cell_type": "code",
   "execution_count": 251,
   "metadata": {},
   "outputs": [
    {
     "name": "stdout",
     "output_type": "stream",
     "text": [
      "Initial Paramters:\n",
      "[0.45 0.25]\n",
      "Loss:\n",
      "0.00041544256508909273\n",
      "Epochs:  52\n",
      "Final Parameters\n",
      "[0.00689399 0.00398153]\n"
     ]
    }
   ],
   "source": [
    "seq_4 = []\n",
    "loss_seq_4 = []\n",
    "print(\"Initial Paramters:\")\n",
    "print(w_now)\n",
    "# print(w_now, mom_now, mom_s_now, learning_rate, tolerence, beta_1, beta_2, alpha, epsilon)\n",
    "for i in range(epochs):\n",
    "    seq_4 += [w_now]\n",
    "    w_now, mom_now, mom_s_now, loss, cont = adam_update(w_now, mom_now, mom_s_now, learning_rate, tolerence, beta_1, beta_2, epsilon, i+1)\n",
    "    loss_seq_4 += [loss]\n",
    "    if(not cont):\n",
    "        print(\"Epochs: \", i+1)\n",
    "        break\n",
    "if(cont):\n",
    "    print(\"No Convergence\")\n",
    "else:\n",
    "    print(\"Final Parameters\")\n",
    "    print(w_now)    "
   ]
  },
  {
   "cell_type": "code",
   "execution_count": 252,
   "metadata": {},
   "outputs": [
    {
     "data": {
      "image/png": "[encoded data removed]",
      "text/plain": [
       "<Figure size 640x480 with 1 Axes>"
      ]
     },
     "metadata": {},
     "output_type": "display_data"
    }
   ],
   "source": [
    "if(not cont):\n",
    "    ground_truth = [0, 0]\n",
    "    seq_4 = pd.DataFrame(seq_4)\n",
    "    contour_plot(seq_4, loss_seq_4, ground_truth)"
   ]
  },
  {
   "cell_type": "markdown",
   "metadata": {},
   "source": [
    "Notes: \n",
    "1. The same overflow problem that has been encountered in the second question has been encountered here too. Hence, the initial points have been chosen carefully.\n",
    "2. If the point is chose near the circle, the convergence occurs near the circle itself. (x^2 + y^2 = 1)\n",
    "3. If the point is chosen near the origin, then the convergence, occurs at the origin. \n"
   ]
  }
 ],
 "metadata": {
  "kernelspec": {
   "display_name": "Python 3 (ipykernel)",
   "language": "python",
   "name": "python3"
  },
  "language_info": {
   "codemirror_mode": {
    "name": "ipython",
    "version": 3
   },
   "file_extension": ".py",
   "mimetype": "text/x-python",
   "name": "python",
   "nbconvert_exporter": "python",
   "pygments_lexer": "ipython3",
   "version": "3.10.6"
  },
  "vscode": {
   "interpreter": {
    "hash": "aee8b7b246df8f9039afb4144a1f6fd8d2ca17a180786b69acc140d282b71a49"
   }
  }
 },
 "nbformat": 4,
 "nbformat_minor": 2
}
