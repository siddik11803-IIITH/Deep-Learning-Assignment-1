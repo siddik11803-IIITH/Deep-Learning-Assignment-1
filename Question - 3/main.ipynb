{
 "cells": [
  {
   "cell_type": "markdown",
   "metadata": {},
   "source": [
    "# Question - 3"
   ]
  },
  {
   "cell_type": "code",
   "execution_count": 2,
   "metadata": {},
   "outputs": [],
   "source": [
    "import numpy as np\n",
    "import pickle as pkl\n",
    "import pandas as pd\n",
    "import matplotlib.pyplot as plot\n",
    "import random\n",
    "from mpl_toolkits import mplot3d\n",
    "import matplotlib.axes as axes"
   ]
  },
  {
   "cell_type": "markdown",
   "metadata": {},
   "source": [
    "### Generating The Function points for the plot"
   ]
  },
  {
   "cell_type": "code",
   "execution_count": 3,
   "metadata": {},
   "outputs": [],
   "source": [
    "def q3_function(parameters):\n",
    "    x = parameters[0]\n",
    "    y = parameters[1]\n",
    "    t = x**2 + y**2\n",
    "    return (50/9*(t**3) - 209/18*(t**2) + 59/9*(t))\n",
    "def gradient_function(parameters):\n",
    "    x = parameters[0]\n",
    "    y = parameters[1]\n",
    "    t = x**2 + y**2\n",
    "    t_dx = x*2 \n",
    "    t_dy = y*2\n",
    "    f_dt = (150*(t**2) - 209*t + 59)/9\n",
    "    return np.array([t_dx*f_dt, t_dy*f_dt])\n",
    "def generate_points(n, t):\n",
    "    '''\n",
    "    We shall use this function to generate the points with random initialisation \n",
    "    as mentioned in the question. We shall take the points from the range ...\n",
    "    [-10, 10]^2\n",
    "    x is the 1st argument\n",
    "    y is the 2nd argument\n",
    "    '''\n",
    "    training_set_x = []\n",
    "    training_set_y = []\n",
    "    for i in range(n):\n",
    "        training_set_x += [[random.uniform(-t, t), random.uniform(-t, t)]]\n",
    "        training_set_y += [q3_function(training_set_x[i])]\n",
    "    training_set_y = np.array(training_set_y)\n",
    "    training_set_x = np.array(training_set_x)\n",
    "    return training_set_x, training_set_y\n",
    "data_points = 500\n",
    "t = 3\n",
    "training_set_x, training_set_y = generate_points(data_points, t)"
   ]
  },
  {
   "cell_type": "code",
   "execution_count": 4,
   "metadata": {},
   "outputs": [
    {
     "data": {
      "text/html": [
       "<div>\n",
       "<style scoped>\n",
       "    .dataframe tbody tr th:only-of-type {\n",
       "        vertical-align: middle;\n",
       "    }\n",
       "\n",
       "    .dataframe tbody tr th {\n",
       "        vertical-align: top;\n",
       "    }\n",
       "\n",
       "    .dataframe thead th {\n",
       "        text-align: right;\n",
       "    }\n",
       "</style>\n",
       "<table border=\"1\" class=\"dataframe\">\n",
       "  <thead>\n",
       "    <tr style=\"text-align: right;\">\n",
       "      <th></th>\n",
       "      <th>0</th>\n",
       "    </tr>\n",
       "  </thead>\n",
       "  <tbody>\n",
       "    <tr>\n",
       "      <th>0</th>\n",
       "      <td>192.092361</td>\n",
       "    </tr>\n",
       "    <tr>\n",
       "      <th>1</th>\n",
       "      <td>444.762118</td>\n",
       "    </tr>\n",
       "    <tr>\n",
       "      <th>2</th>\n",
       "      <td>83.381955</td>\n",
       "    </tr>\n",
       "    <tr>\n",
       "      <th>3</th>\n",
       "      <td>972.466140</td>\n",
       "    </tr>\n",
       "    <tr>\n",
       "      <th>4</th>\n",
       "      <td>286.739516</td>\n",
       "    </tr>\n",
       "    <tr>\n",
       "      <th>...</th>\n",
       "      <td>...</td>\n",
       "    </tr>\n",
       "    <tr>\n",
       "      <th>495</th>\n",
       "      <td>0.568723</td>\n",
       "    </tr>\n",
       "    <tr>\n",
       "      <th>496</th>\n",
       "      <td>8524.023002</td>\n",
       "    </tr>\n",
       "    <tr>\n",
       "      <th>497</th>\n",
       "      <td>1731.337249</td>\n",
       "    </tr>\n",
       "    <tr>\n",
       "      <th>498</th>\n",
       "      <td>1348.700170</td>\n",
       "    </tr>\n",
       "    <tr>\n",
       "      <th>499</th>\n",
       "      <td>1630.312114</td>\n",
       "    </tr>\n",
       "  </tbody>\n",
       "</table>\n",
       "<p>500 rows × 1 columns</p>\n",
       "</div>"
      ],
      "text/plain": [
       "               0\n",
       "0     192.092361\n",
       "1     444.762118\n",
       "2      83.381955\n",
       "3     972.466140\n",
       "4     286.739516\n",
       "..           ...\n",
       "495     0.568723\n",
       "496  8524.023002\n",
       "497  1731.337249\n",
       "498  1348.700170\n",
       "499  1630.312114\n",
       "\n",
       "[500 rows x 1 columns]"
      ]
     },
     "execution_count": 4,
     "metadata": {},
     "output_type": "execute_result"
    }
   ],
   "source": [
    "pd.DataFrame(training_set_y)"
   ]
  },
  {
   "cell_type": "code",
   "execution_count": 5,
   "metadata": {},
   "outputs": [
    {
     "data": {
      "text/html": [
       "<div>\n",
       "<style scoped>\n",
       "    .dataframe tbody tr th:only-of-type {\n",
       "        vertical-align: middle;\n",
       "    }\n",
       "\n",
       "    .dataframe tbody tr th {\n",
       "        vertical-align: top;\n",
       "    }\n",
       "\n",
       "    .dataframe thead th {\n",
       "        text-align: right;\n",
       "    }\n",
       "</style>\n",
       "<table border=\"1\" class=\"dataframe\">\n",
       "  <thead>\n",
       "    <tr style=\"text-align: right;\">\n",
       "      <th></th>\n",
       "      <th>0</th>\n",
       "      <th>1</th>\n",
       "    </tr>\n",
       "  </thead>\n",
       "  <tbody>\n",
       "    <tr>\n",
       "      <th>0</th>\n",
       "      <td>1.976105</td>\n",
       "      <td>-0.270548</td>\n",
       "    </tr>\n",
       "    <tr>\n",
       "      <th>1</th>\n",
       "      <td>1.624790</td>\n",
       "      <td>1.544462</td>\n",
       "    </tr>\n",
       "    <tr>\n",
       "      <th>2</th>\n",
       "      <td>-1.687229</td>\n",
       "      <td>0.588237</td>\n",
       "    </tr>\n",
       "    <tr>\n",
       "      <th>3</th>\n",
       "      <td>0.282891</td>\n",
       "      <td>2.495085</td>\n",
       "    </tr>\n",
       "    <tr>\n",
       "      <th>4</th>\n",
       "      <td>1.733756</td>\n",
       "      <td>1.198005</td>\n",
       "    </tr>\n",
       "    <tr>\n",
       "      <th>...</th>\n",
       "      <td>...</td>\n",
       "      <td>...</td>\n",
       "    </tr>\n",
       "    <tr>\n",
       "      <th>495</th>\n",
       "      <td>-1.039116</td>\n",
       "      <td>0.174233</td>\n",
       "    </tr>\n",
       "    <tr>\n",
       "      <th>496</th>\n",
       "      <td>2.207326</td>\n",
       "      <td>2.713998</td>\n",
       "    </tr>\n",
       "    <tr>\n",
       "      <th>497</th>\n",
       "      <td>-0.252004</td>\n",
       "      <td>-2.724976</td>\n",
       "    </tr>\n",
       "    <tr>\n",
       "      <th>498</th>\n",
       "      <td>2.635953</td>\n",
       "      <td>0.012944</td>\n",
       "    </tr>\n",
       "    <tr>\n",
       "      <th>499</th>\n",
       "      <td>-2.541642</td>\n",
       "      <td>0.945922</td>\n",
       "    </tr>\n",
       "  </tbody>\n",
       "</table>\n",
       "<p>500 rows × 2 columns</p>\n",
       "</div>"
      ],
      "text/plain": [
       "            0         1\n",
       "0    1.976105 -0.270548\n",
       "1    1.624790  1.544462\n",
       "2   -1.687229  0.588237\n",
       "3    0.282891  2.495085\n",
       "4    1.733756  1.198005\n",
       "..        ...       ...\n",
       "495 -1.039116  0.174233\n",
       "496  2.207326  2.713998\n",
       "497 -0.252004 -2.724976\n",
       "498  2.635953  0.012944\n",
       "499 -2.541642  0.945922\n",
       "\n",
       "[500 rows x 2 columns]"
      ]
     },
     "execution_count": 5,
     "metadata": {},
     "output_type": "execute_result"
    }
   ],
   "source": [
    "pd.DataFrame(training_set_x)"
   ]
  },
  {
   "cell_type": "code",
   "execution_count": 68,
   "metadata": {},
   "outputs": [
    {
     "data": {
      "text/html": [
       "<div>\n",
       "<style scoped>\n",
       "    .dataframe tbody tr th:only-of-type {\n",
       "        vertical-align: middle;\n",
       "    }\n",
       "\n",
       "    .dataframe tbody tr th {\n",
       "        vertical-align: top;\n",
       "    }\n",
       "\n",
       "    .dataframe thead th {\n",
       "        text-align: right;\n",
       "    }\n",
       "</style>\n",
       "<table border=\"1\" class=\"dataframe\">\n",
       "  <thead>\n",
       "    <tr style=\"text-align: right;\">\n",
       "      <th></th>\n",
       "      <th>x</th>\n",
       "      <th>y</th>\n",
       "      <th>function</th>\n",
       "    </tr>\n",
       "  </thead>\n",
       "  <tbody>\n",
       "    <tr>\n",
       "      <th>0</th>\n",
       "      <td>1.976105</td>\n",
       "      <td>-0.270548</td>\n",
       "      <td>192.092361</td>\n",
       "    </tr>\n",
       "    <tr>\n",
       "      <th>1</th>\n",
       "      <td>1.976105</td>\n",
       "      <td>1.544462</td>\n",
       "      <td>964.580091</td>\n",
       "    </tr>\n",
       "    <tr>\n",
       "      <th>2</th>\n",
       "      <td>1.976105</td>\n",
       "      <td>0.588237</td>\n",
       "      <td>244.822571</td>\n",
       "    </tr>\n",
       "    <tr>\n",
       "      <th>3</th>\n",
       "      <td>1.976105</td>\n",
       "      <td>2.495085</td>\n",
       "      <td>4650.615640</td>\n",
       "    </tr>\n",
       "    <tr>\n",
       "      <th>4</th>\n",
       "      <td>1.976105</td>\n",
       "      <td>1.198005</td>\n",
       "      <td>549.944939</td>\n",
       "    </tr>\n",
       "    <tr>\n",
       "      <th>...</th>\n",
       "      <td>...</td>\n",
       "      <td>...</td>\n",
       "      <td>...</td>\n",
       "    </tr>\n",
       "    <tr>\n",
       "      <th>249995</th>\n",
       "      <td>-2.541642</td>\n",
       "      <td>0.174233</td>\n",
       "      <td>1072.315100</td>\n",
       "    </tr>\n",
       "    <tr>\n",
       "      <th>249996</th>\n",
       "      <td>-2.541642</td>\n",
       "      <td>2.713998</td>\n",
       "      <td>12553.381277</td>\n",
       "    </tr>\n",
       "    <tr>\n",
       "      <th>249997</th>\n",
       "      <td>-2.541642</td>\n",
       "      <td>-2.724976</td>\n",
       "      <td>12725.601459</td>\n",
       "    </tr>\n",
       "    <tr>\n",
       "      <th>249998</th>\n",
       "      <td>-2.541642</td>\n",
       "      <td>0.012944</td>\n",
       "      <td>1055.560021</td>\n",
       "    </tr>\n",
       "    <tr>\n",
       "      <th>249999</th>\n",
       "      <td>-2.541642</td>\n",
       "      <td>0.945922</td>\n",
       "      <td>1630.312114</td>\n",
       "    </tr>\n",
       "  </tbody>\n",
       "</table>\n",
       "<p>250000 rows × 3 columns</p>\n",
       "</div>"
      ],
      "text/plain": [
       "               x         y      function\n",
       "0       1.976105 -0.270548    192.092361\n",
       "1       1.976105  1.544462    964.580091\n",
       "2       1.976105  0.588237    244.822571\n",
       "3       1.976105  2.495085   4650.615640\n",
       "4       1.976105  1.198005    549.944939\n",
       "...          ...       ...           ...\n",
       "249995 -2.541642  0.174233   1072.315100\n",
       "249996 -2.541642  2.713998  12553.381277\n",
       "249997 -2.541642 -2.724976  12725.601459\n",
       "249998 -2.541642  0.012944   1055.560021\n",
       "249999 -2.541642  0.945922   1630.312114\n",
       "\n",
       "[250000 rows x 3 columns]"
      ]
     },
     "execution_count": 68,
     "metadata": {},
     "output_type": "execute_result"
    }
   ],
   "source": [
    "def plot_points(training_set_x, training_set_y):\n",
    "    # fig = plot.figure()\n",
    "    # ax = plot.axes(projection = '3d', )\n",
    "    # ax.scatter3D([i[0] for i in training_set_x], [i[1] for i in training_set_x], training_set_y, color = 'black')\n",
    "    z = []\n",
    "    for i in range(len(training_set_x)):\n",
    "        for j in range(len(training_set_x)):\n",
    "            temp_dict = dict()\n",
    "            temp_dict['x'] = training_set_x[i][0]\n",
    "            temp_dict['y'] = training_set_x[j][1]\n",
    "            temp_dict['function'] = q3_function(np.array([training_set_x[i][0], training_set_x[j][1]]))\n",
    "            z += [temp_dict]\n",
    "    return z\n",
    "temp = pd.DataFrame(plot_points(training_set_x, training_set_y))\n",
    "temp"
   ]
  },
  {
   "cell_type": "code",
   "execution_count": 69,
   "metadata": {},
   "outputs": [],
   "source": [
    "# fig = plot.figure()\n",
    "# ax = plot.axes(projection='3d',)\n",
    "# plot.plot(0, 0, 0, 'ro')\n",
    "# ax.scatter3D(list(temp['x']), list(temp['y']), list(temp['function']))\n",
    "# plot.savefig('./q3.png')\n",
    "# plot.show()"
   ]
  },
  {
   "cell_type": "code",
   "execution_count": 70,
   "metadata": {},
   "outputs": [],
   "source": [
    "# fig = plot.figure()\n",
    "# plot.plot(0, 0, 0, 'ro')\n",
    "# plot.tricontourf(list(temp['x']), list(temp['y']), list(temp['function']))\n",
    "# plot.savefig('./data.png')\n",
    "# plot.show()"
   ]
  },
  {
   "cell_type": "code",
   "execution_count": 76,
   "metadata": {},
   "outputs": [],
   "source": [
    "def contour_plot(seq_1, loss_seq_1, ground_truth):\n",
    "    fig = plot.figure()\n",
    "    ax = plot.axes()\n",
    "    x = list(seq_1[0])\n",
    "    y = list(seq_1[1])\n",
    "    z = loss_seq_1\n",
    "    plot.plot(ground_truth[0], ground_truth[1], 'yo')\n",
    "    plot.tricontourf(list(temp['x']), list(temp['y']), list(temp['function']))\n",
    "    for i in range(len(seq_1)-1):\n",
    "        plot.arrow(x=x[i], y =y[i], dx = x[i+1] - x[i], dy = y[i+1] - y[i], width=0.01)\n",
    "    plot.tight_layout()\n",
    "    plot.show()"
   ]
  },
  {
   "cell_type": "markdown",
   "metadata": {},
   "source": [
    "### Question - 3.1 - Gradient Descent\n",
    "Notes: \n",
    "1. The same overflow problem has been encountered in this as well. Hence the numbers are carefully chosen. "
   ]
  },
  {
   "cell_type": "code",
   "execution_count": 138,
   "metadata": {},
   "outputs": [],
   "source": [
    "epochs = 10000\n",
    "learning_rate = 0.001 # Is kind of safe learning rate\n",
    "max_limit_1 = 2\n",
    "# w_init = np.array([random.uniform(-1*max_limit_1, max_limit_1), random.uniform(-1*max_limit_1, max_limit_1)])\n",
    "w_init = np.array([0.25, 0.25])\n",
    "tolerence = 0.0001"
   ]
  },
  {
   "cell_type": "code",
   "execution_count": 139,
   "metadata": {},
   "outputs": [],
   "source": [
    "def gradient_descent_step(weight_now, learning_rate, tolerence):\n",
    "    gradient = gradient_function(weight_now)\n",
    "    weight_new = weight_now - learning_rate*gradient\n",
    "    loss = q3_function(weight_new)\n",
    "    if(loss < tolerence):\n",
    "        print(\"Loss: \", loss)\n",
    "        return weight_new, loss, 0\n",
    "    return weight_new, loss, 1"
   ]
  },
  {
   "cell_type": "code",
   "execution_count": 142,
   "metadata": {},
   "outputs": [
    {
     "name": "stdout",
     "output_type": "stream",
     "text": [
      "Initial Parameters:\n",
      "[1.05 1.25]\n",
      "Epochs 10000\n",
      "Final Paramters\n",
      "1.0000000000000033\n"
     ]
    }
   ],
   "source": [
    "w_now = w_init\n",
    "print(\"Initial Parameters:\")\n",
    "print(w_init)\n",
    "seq_1 = []\n",
    "loss_seq_1 = []\n",
    "for i in range(epochs):\n",
    "    seq_1 += [w_now]\n",
    "    w_now, loss, cont = gradient_descent_step(w_now, learning_rate=learning_rate, tolerence=tolerence)\n",
    "    loss_seq_1 += [loss]\n",
    "    if(not cont):\n",
    "        print(\"Epochs: \", i+1)\n",
    "        break\n",
    "if(cont):\n",
    "    print(\"Epochs\", epochs)\n",
    "print(\"Final Paramters\")\n",
    "\n"
   ]
  },
  {
   "cell_type": "code",
   "execution_count": 97,
   "metadata": {},
   "outputs": [
    {
     "data": {
      "image/png": "[encoded data removed]",
      "text/plain": [
       "<Figure size 640x480 with 1 Axes>"
      ]
     },
     "metadata": {},
     "output_type": "display_data"
    }
   ],
   "source": [
    "if(not cont):\n",
    "    seq_1 = pd.DataFrame(seq_1)\n",
    "    ground_truth = [0, 0]\n",
    "    contour_plot(seq_1, loss_seq_1, ground_truth)"
   ]
  },
  {
   "cell_type": "code",
   "execution_count": 98,
   "metadata": {},
   "outputs": [],
   "source": [
    "epochs = 10000\n",
    "learning_rate = 0.001\n",
    "beta = 0.8\n",
    "tolerence = 0.0001\n",
    "max_limit_2 = 1\n",
    "w_init = w_init\n",
    "mom_init = np.array([0, 0])"
   ]
  },
  {
   "cell_type": "code",
   "execution_count": 99,
   "metadata": {},
   "outputs": [],
   "source": [
    "def polyak_update(w_now, mom_now, learning_rate, beta, tolerence):\n",
    "    '''\n",
    "    For a given value of weight, momentum, it does a polyak momentum\n",
    "    and returns the new weight, momentum, and loss\n",
    "    '''\n",
    "    mom_new = beta*mom_now - learning_rate*gradient_function(w_now)\n",
    "    w_new = w_now + mom_new\n",
    "    loss = q3_function(w_new)\n",
    "    if(loss < tolerence):\n",
    "        print(\"Loss: \")\n",
    "        print(loss)\n",
    "        return w_new, mom_new, loss, 0\n",
    "    return w_new, mom_new, loss, 1"
   ]
  },
  {
   "cell_type": "code",
   "execution_count": 100,
   "metadata": {},
   "outputs": [
    {
     "name": "stdout",
     "output_type": "stream",
     "text": [
      "Initial Paramters: \n",
      "[0.25 0.35]\n",
      "Loss: \n",
      "8.187094880339672e-05\n",
      "Epochs: 59\n",
      "Final Parameters:\n",
      "[0.00205409 0.00287572]\n"
     ]
    }
   ],
   "source": [
    "seq_2 = []\n",
    "loss_seq_2 = []\n",
    "w_now = w_init\n",
    "mom_now = mom_init\n",
    "print(\"Initial Paramters: \")\n",
    "print(w_init)\n",
    "for i in range(epochs):\n",
    "    seq_2 += [w_now]\n",
    "    w_now, mom_now, loss, cont = polyak_update(w_now, mom_now, learning_rate, beta, tolerence)\n",
    "    loss_seq_2 += [loss]\n",
    "    if(not cont):\n",
    "        print(\"Epochs:\", i+1)\n",
    "        break\n",
    "if(cont):\n",
    "    print(\"Epochs:\", loss)\n",
    "print(\"Final Parameters:\")\n",
    "print(w_now)"
   ]
  },
  {
   "cell_type": "code",
   "execution_count": 101,
   "metadata": {},
   "outputs": [
    {
     "data": {
      "image/png": "[encoded data removed]",
      "text/plain": [
       "<Figure size 640x480 with 1 Axes>"
      ]
     },
     "metadata": {},
     "output_type": "display_data"
    }
   ],
   "source": [
    "if(not cont):\n",
    "    ground_truth = [0, 0]\n",
    "    seq_2 = pd.DataFrame(seq_2)\n",
    "    contour_plot(seq_2, loss_seq_1, ground_truth)"
   ]
  },
  {
   "cell_type": "code",
   "execution_count": 130,
   "metadata": {},
   "outputs": [],
   "source": [
    "epochs = 10000\n",
    "learning_rate = 0.0009\n",
    "beta = 0.9\n",
    "w_now = np.array([0.4, 0.3])\n",
    "tolerence = 0.001\n",
    "mom_init = np.array([0, 0])\n",
    "mom_now = mom_init"
   ]
  },
  {
   "cell_type": "code",
   "execution_count": 131,
   "metadata": {},
   "outputs": [],
   "source": [
    "def nesterov_update(w_now, mom_now, learning_rate, beta, tolerence):\n",
    "    mom_new = beta*mom_now - learning_rate*gradient_function(w_now + beta*mom_now)\n",
    "    w_new = w_now + mom_new\n",
    "    loss = q3_function(w_new)\n",
    "    if(loss < tolerence):\n",
    "        print(\"Loss: \")\n",
    "        print(loss)\n",
    "        return w_new, mom_new, loss, 0\n",
    "    return w_new, mom_new, loss, 1"
   ]
  },
  {
   "cell_type": "code",
   "execution_count": 132,
   "metadata": {},
   "outputs": [
    {
     "name": "stdout",
     "output_type": "stream",
     "text": [
      "Initial Paramters:\n",
      "[0.4 0.3]\n",
      "Loss: \n",
      "0.0004825139501580883\n",
      "Epochs:  34\n",
      "Final Parameters\n",
      "[0.00686386 0.0051479 ]\n"
     ]
    }
   ],
   "source": [
    "seq_3 = []\n",
    "loss_seq_3 = []\n",
    "print(\"Initial Paramters:\")\n",
    "print(w_now)\n",
    "for i in range(epochs):\n",
    "    seq_3 += [w_now]\n",
    "    w_now, mom_now, loss, cont = nesterov_update(w_now, mom_now, learning_rate, beta, tolerence)\n",
    "    loss_seq_3 += [loss]\n",
    "    if(not cont):\n",
    "        print(\"Epochs: \", i+1)\n",
    "        break\n",
    "if(cont):\n",
    "    print(\"Epochs:\", epochs)\n",
    "print(\"Final Parameters\")\n",
    "print(w_now)"
   ]
  },
  {
   "cell_type": "code",
   "execution_count": 133,
   "metadata": {},
   "outputs": [
    {
     "data": {
      "image/png": "[encoded data removed]",
      "text/plain": [
       "<Figure size 640x480 with 1 Axes>"
      ]
     },
     "metadata": {},
     "output_type": "display_data"
    }
   ],
   "source": [
    "if(not cont):\n",
    "    ground_truth = [0, 0]\n",
    "    seq_3 = pd.DataFrame(seq_3)\n",
    "    contour_plot(seq_3, loss_seq_3, ground_truth)"
   ]
  },
  {
   "cell_type": "code",
   "execution_count": 134,
   "metadata": {},
   "outputs": [],
   "source": [
    "beta_1 = 0.9\n",
    "beta_2 = 0.999\n",
    "epsilon = 1e-08\n",
    "learning_rate = 0.21\n",
    "w_now = w_init\n",
    "mom_now = mom_init\n",
    "mom_s_now = np.array([0, 0])\n",
    "tolerence = 0.001"
   ]
  },
  {
   "cell_type": "code",
   "execution_count": 135,
   "metadata": {},
   "outputs": [],
   "source": [
    "def adam_update(w_now, mom_now, mom_s_now, learning_rate, tolerence, beta_1, beta_2, epsilon, iteration):\n",
    "    gradient = gradient_function(w_now)\n",
    "    mom_new = beta_1*mom_now + (1- beta_1)*(gradient)\n",
    "    mom_s_new = beta_2*(mom_s_now) + (1 - beta_2)*(gradient**2)\n",
    "    w_new = [0]*len(w_now)\n",
    "    for i in range(len(w_new)):\n",
    "        w_new[i] = w_now[i] - (learning_rate*(mom_new[i])/(np.sqrt(mom_s_new[i]) + epsilon))\n",
    "    # print(w_new)\n",
    "    w_new = np.array(w_new)\n",
    "    # w_new = w_now - learning_rate*(alpha*mom_new)/(np.sqrt(mom_s_new + epsilon))\n",
    "    loss = q3_function(w_new)\n",
    "    if(loss < tolerence):\n",
    "        print(\"Loss:\")\n",
    "        print(loss)\n",
    "        return w_new, mom_new, mom_s_new,loss, 0\n",
    "    return w_new, mom_new, mom_s_new,loss,  1"
   ]
  },
  {
   "cell_type": "code",
   "execution_count": 136,
   "metadata": {},
   "outputs": [
    {
     "name": "stdout",
     "output_type": "stream",
     "text": [
      "Initial Paramters:\n",
      "[0.25 0.35]\n",
      "No Convergence\n"
     ]
    }
   ],
   "source": [
    "seq_4 = []\n",
    "loss_seq_4 = []\n",
    "print(\"Initial Paramters:\")\n",
    "print(w_now)\n",
    "# print(w_now, mom_now, mom_s_now, learning_rate, tolerence, beta_1, beta_2, alpha, epsilon)\n",
    "for i in range(epochs):\n",
    "    seq_4 += [w_now]\n",
    "    w_now, mom_now, mom_s_now, loss, cont = adam_update(w_now, mom_now, mom_s_now, learning_rate, tolerence, beta_1, beta_2, epsilon, i+1)\n",
    "    loss_seq_4 += [loss]\n",
    "    if(not cont):\n",
    "        print(\"Epochs: \", i+1)\n",
    "        break\n",
    "if(cont):\n",
    "    print(\"No Convergence\")\n",
    "else:\n",
    "    print(\"Final Parameters\")\n",
    "    print(w_now)    "
   ]
  },
  {
   "cell_type": "code",
   "execution_count": 137,
   "metadata": {},
   "outputs": [],
   "source": [
    "if(not cont):\n",
    "    ground_truth = [0, 0]\n",
    "    seq_4 = pd.DataFrame(seq_4)\n",
    "    contour_plot(seq_4, loss_seq_4, ground_truth)"
   ]
  }
 ],
 "metadata": {
  "kernelspec": {
   "display_name": "Python 3 (ipykernel)",
   "language": "python",
   "name": "python3"
  },
  "language_info": {
   "codemirror_mode": {
    "name": "ipython",
    "version": 3
   },
   "file_extension": ".py",
   "mimetype": "text/x-python",
   "name": "python",
   "nbconvert_exporter": "python",
   "pygments_lexer": "ipython3",
   "version": "3.10.6"
  },
  "vscode": {
   "interpreter": {
    "hash": "aee8b7b246df8f9039afb4144a1f6fd8d2ca17a180786b69acc140d282b71a49"
   }
  }
 },
 "nbformat": 4,
 "nbformat_minor": 2
}
