{
 "cells": [
  {
   "cell_type": "markdown",
   "metadata": {},
   "source": [
    "# Question - 2"
   ]
  },
  {
   "cell_type": "code",
   "execution_count": 1,
   "metadata": {},
   "outputs": [],
   "source": [
    "import numpy as np\n",
    "import pickle as pkl\n",
    "import pandas as pd\n",
    "import matplotlib.pyplot as plot\n",
    "import random\n",
    "from mpl_toolkits import mplot3d\n",
    "import matplotlib.axes as axes"
   ]
  },
  {
   "cell_type": "markdown",
   "metadata": {},
   "source": [
    "### Generating The datasets"
   ]
  },
  {
   "cell_type": "code",
   "execution_count": 2,
   "metadata": {},
   "outputs": [],
   "source": [
    "def rosenborck_function(x, y):\n",
    "    return x**2 + 100*((y-x**2)**2)\n",
    "\n",
    "def generate_points(n, t):\n",
    "    '''\n",
    "    We shall use this function to generate the points with random initialisation \n",
    "    as mentioned in the question. We shall take the points from the range ...\n",
    "    [-10, 10]^2\n",
    "    x is the 1st argument\n",
    "    y is the 2nd argument\n",
    "    '''\n",
    "    training_set_x = []\n",
    "    training_set_y = []\n",
    "    for i in range(n):\n",
    "        training_set_x += [[random.uniform(-t, t), random.uniform(-t, t)]]\n",
    "        training_set_y += [rosenborck_function(training_set_x[i][0], training_set_x[i][1])]\n",
    "    training_set_y = np.array(training_set_y)\n",
    "    training_set_x = np.array(training_set_x)\n",
    "    return training_set_x, training_set_y\n",
    "data_points = 500\n",
    "t = 3\n",
    "training_set_x, training_set_y = generate_points(data_points, t)"
   ]
  },
  {
   "cell_type": "code",
   "execution_count": 3,
   "metadata": {},
   "outputs": [
    {
     "data": {
      "text/html": [
       "<div>\n",
       "<style scoped>\n",
       "    .dataframe tbody tr th:only-of-type {\n",
       "        vertical-align: middle;\n",
       "    }\n",
       "\n",
       "    .dataframe tbody tr th {\n",
       "        vertical-align: top;\n",
       "    }\n",
       "\n",
       "    .dataframe thead th {\n",
       "        text-align: right;\n",
       "    }\n",
       "</style>\n",
       "<table border=\"1\" class=\"dataframe\">\n",
       "  <thead>\n",
       "    <tr style=\"text-align: right;\">\n",
       "      <th></th>\n",
       "      <th>0</th>\n",
       "    </tr>\n",
       "  </thead>\n",
       "  <tbody>\n",
       "    <tr>\n",
       "      <th>0</th>\n",
       "      <td>2225.485498</td>\n",
       "    </tr>\n",
       "    <tr>\n",
       "      <th>1</th>\n",
       "      <td>304.362022</td>\n",
       "    </tr>\n",
       "    <tr>\n",
       "      <th>2</th>\n",
       "      <td>15.438751</td>\n",
       "    </tr>\n",
       "    <tr>\n",
       "      <th>3</th>\n",
       "      <td>22.921810</td>\n",
       "    </tr>\n",
       "    <tr>\n",
       "      <th>4</th>\n",
       "      <td>376.670260</td>\n",
       "    </tr>\n",
       "    <tr>\n",
       "      <th>...</th>\n",
       "      <td>...</td>\n",
       "    </tr>\n",
       "    <tr>\n",
       "      <th>495</th>\n",
       "      <td>1073.619206</td>\n",
       "    </tr>\n",
       "    <tr>\n",
       "      <th>496</th>\n",
       "      <td>4757.125813</td>\n",
       "    </tr>\n",
       "    <tr>\n",
       "      <th>497</th>\n",
       "      <td>8.704543</td>\n",
       "    </tr>\n",
       "    <tr>\n",
       "      <th>498</th>\n",
       "      <td>1532.689557</td>\n",
       "    </tr>\n",
       "    <tr>\n",
       "      <th>499</th>\n",
       "      <td>3433.632891</td>\n",
       "    </tr>\n",
       "  </tbody>\n",
       "</table>\n",
       "<p>500 rows × 1 columns</p>\n",
       "</div>"
      ],
      "text/plain": [
       "               0\n",
       "0    2225.485498\n",
       "1     304.362022\n",
       "2      15.438751\n",
       "3      22.921810\n",
       "4     376.670260\n",
       "..           ...\n",
       "495  1073.619206\n",
       "496  4757.125813\n",
       "497     8.704543\n",
       "498  1532.689557\n",
       "499  3433.632891\n",
       "\n",
       "[500 rows x 1 columns]"
      ]
     },
     "execution_count": 3,
     "metadata": {},
     "output_type": "execute_result"
    }
   ],
   "source": [
    "pd.DataFrame(training_set_y)"
   ]
  },
  {
   "cell_type": "code",
   "execution_count": 4,
   "metadata": {},
   "outputs": [
    {
     "data": {
      "text/html": [
       "<div>\n",
       "<style scoped>\n",
       "    .dataframe tbody tr th:only-of-type {\n",
       "        vertical-align: middle;\n",
       "    }\n",
       "\n",
       "    .dataframe tbody tr th {\n",
       "        vertical-align: top;\n",
       "    }\n",
       "\n",
       "    .dataframe thead th {\n",
       "        text-align: right;\n",
       "    }\n",
       "</style>\n",
       "<table border=\"1\" class=\"dataframe\">\n",
       "  <thead>\n",
       "    <tr style=\"text-align: right;\">\n",
       "      <th></th>\n",
       "      <th>0</th>\n",
       "      <th>1</th>\n",
       "    </tr>\n",
       "  </thead>\n",
       "  <tbody>\n",
       "    <tr>\n",
       "      <th>0</th>\n",
       "      <td>-2.242142</td>\n",
       "      <td>0.315028</td>\n",
       "    </tr>\n",
       "    <tr>\n",
       "      <th>1</th>\n",
       "      <td>0.169882</td>\n",
       "      <td>-1.715655</td>\n",
       "    </tr>\n",
       "    <tr>\n",
       "      <th>2</th>\n",
       "      <td>1.301425</td>\n",
       "      <td>1.322963</td>\n",
       "    </tr>\n",
       "    <tr>\n",
       "      <th>3</th>\n",
       "      <td>-1.828762</td>\n",
       "      <td>2.901905</td>\n",
       "    </tr>\n",
       "    <tr>\n",
       "      <th>4</th>\n",
       "      <td>0.568635</td>\n",
       "      <td>-1.616620</td>\n",
       "    </tr>\n",
       "    <tr>\n",
       "      <th>...</th>\n",
       "      <td>...</td>\n",
       "      <td>...</td>\n",
       "    </tr>\n",
       "    <tr>\n",
       "      <th>495</th>\n",
       "      <td>-1.595150</td>\n",
       "      <td>-0.728223</td>\n",
       "    </tr>\n",
       "    <tr>\n",
       "      <th>496</th>\n",
       "      <td>-2.872426</td>\n",
       "      <td>1.359622</td>\n",
       "    </tr>\n",
       "    <tr>\n",
       "      <th>497</th>\n",
       "      <td>-0.471170</td>\n",
       "      <td>-0.069247</td>\n",
       "    </tr>\n",
       "    <tr>\n",
       "      <th>498</th>\n",
       "      <td>1.544995</td>\n",
       "      <td>-1.524899</td>\n",
       "    </tr>\n",
       "    <tr>\n",
       "      <th>499</th>\n",
       "      <td>2.235789</td>\n",
       "      <td>-0.856703</td>\n",
       "    </tr>\n",
       "  </tbody>\n",
       "</table>\n",
       "<p>500 rows × 2 columns</p>\n",
       "</div>"
      ],
      "text/plain": [
       "            0         1\n",
       "0   -2.242142  0.315028\n",
       "1    0.169882 -1.715655\n",
       "2    1.301425  1.322963\n",
       "3   -1.828762  2.901905\n",
       "4    0.568635 -1.616620\n",
       "..        ...       ...\n",
       "495 -1.595150 -0.728223\n",
       "496 -2.872426  1.359622\n",
       "497 -0.471170 -0.069247\n",
       "498  1.544995 -1.524899\n",
       "499  2.235789 -0.856703\n",
       "\n",
       "[500 rows x 2 columns]"
      ]
     },
     "execution_count": 4,
     "metadata": {},
     "output_type": "execute_result"
    }
   ],
   "source": [
    "pd.DataFrame(training_set_x)"
   ]
  },
  {
   "cell_type": "code",
   "execution_count": 5,
   "metadata": {},
   "outputs": [
    {
     "data": {
      "text/html": [
       "<div>\n",
       "<style scoped>\n",
       "    .dataframe tbody tr th:only-of-type {\n",
       "        vertical-align: middle;\n",
       "    }\n",
       "\n",
       "    .dataframe tbody tr th {\n",
       "        vertical-align: top;\n",
       "    }\n",
       "\n",
       "    .dataframe thead th {\n",
       "        text-align: right;\n",
       "    }\n",
       "</style>\n",
       "<table border=\"1\" class=\"dataframe\">\n",
       "  <thead>\n",
       "    <tr style=\"text-align: right;\">\n",
       "      <th></th>\n",
       "      <th>x</th>\n",
       "      <th>y</th>\n",
       "      <th>function</th>\n",
       "    </tr>\n",
       "  </thead>\n",
       "  <tbody>\n",
       "    <tr>\n",
       "      <th>0</th>\n",
       "      <td>-2.242142</td>\n",
       "      <td>0.315028</td>\n",
       "      <td>2225.485498</td>\n",
       "    </tr>\n",
       "    <tr>\n",
       "      <th>1</th>\n",
       "      <td>-2.242142</td>\n",
       "      <td>-1.715655</td>\n",
       "      <td>4551.638203</td>\n",
       "    </tr>\n",
       "    <tr>\n",
       "      <th>2</th>\n",
       "      <td>-2.242142</td>\n",
       "      <td>1.322963</td>\n",
       "      <td>1377.165128</td>\n",
       "    </tr>\n",
       "    <tr>\n",
       "      <th>3</th>\n",
       "      <td>-2.242142</td>\n",
       "      <td>2.901905</td>\n",
       "      <td>456.715841</td>\n",
       "    </tr>\n",
       "    <tr>\n",
       "      <th>4</th>\n",
       "      <td>-2.242142</td>\n",
       "      <td>-1.616620</td>\n",
       "      <td>4419.063672</td>\n",
       "    </tr>\n",
       "    <tr>\n",
       "      <th>...</th>\n",
       "      <td>...</td>\n",
       "      <td>...</td>\n",
       "      <td>...</td>\n",
       "    </tr>\n",
       "    <tr>\n",
       "      <th>249995</th>\n",
       "      <td>2.235789</td>\n",
       "      <td>-0.728223</td>\n",
       "      <td>3284.822841</td>\n",
       "    </tr>\n",
       "    <tr>\n",
       "      <th>249996</th>\n",
       "      <td>2.235789</td>\n",
       "      <td>1.359622</td>\n",
       "      <td>1329.325310</td>\n",
       "    </tr>\n",
       "    <tr>\n",
       "      <th>249997</th>\n",
       "      <td>2.235789</td>\n",
       "      <td>-0.069247</td>\n",
       "      <td>2573.459796</td>\n",
       "    </tr>\n",
       "    <tr>\n",
       "      <th>249998</th>\n",
       "      <td>2.235789</td>\n",
       "      <td>-1.524899</td>\n",
       "      <td>4260.799999</td>\n",
       "    </tr>\n",
       "    <tr>\n",
       "      <th>249999</th>\n",
       "      <td>2.235789</td>\n",
       "      <td>-0.856703</td>\n",
       "      <td>3433.632891</td>\n",
       "    </tr>\n",
       "  </tbody>\n",
       "</table>\n",
       "<p>250000 rows × 3 columns</p>\n",
       "</div>"
      ],
      "text/plain": [
       "               x         y     function\n",
       "0      -2.242142  0.315028  2225.485498\n",
       "1      -2.242142 -1.715655  4551.638203\n",
       "2      -2.242142  1.322963  1377.165128\n",
       "3      -2.242142  2.901905   456.715841\n",
       "4      -2.242142 -1.616620  4419.063672\n",
       "...          ...       ...          ...\n",
       "249995  2.235789 -0.728223  3284.822841\n",
       "249996  2.235789  1.359622  1329.325310\n",
       "249997  2.235789 -0.069247  2573.459796\n",
       "249998  2.235789 -1.524899  4260.799999\n",
       "249999  2.235789 -0.856703  3433.632891\n",
       "\n",
       "[250000 rows x 3 columns]"
      ]
     },
     "execution_count": 5,
     "metadata": {},
     "output_type": "execute_result"
    }
   ],
   "source": [
    "def plot_points(training_set_x, training_set_y):\n",
    "    # fig = plot.figure()\n",
    "    # ax = plot.axes(projection = '3d', )\n",
    "    # ax.scatter3D([i[0] for i in training_set_x], [i[1] for i in training_set_x], training_set_y, color = 'black')\n",
    "    z = []\n",
    "    for i in range(len(training_set_x)):\n",
    "        for j in range(len(training_set_x)):\n",
    "            temp_dict = dict()\n",
    "            temp_dict['x'] = training_set_x[i][0]\n",
    "            temp_dict['y'] = training_set_x[j][1]\n",
    "            temp_dict['function'] = rosenborck_function(training_set_x[i][0], training_set_x[j][1])\n",
    "            z += [temp_dict]\n",
    "    return z\n",
    "temp = pd.DataFrame(plot_points(training_set_x, training_set_y))\n",
    "temp"
   ]
  },
  {
   "cell_type": "code",
   "execution_count": 6,
   "metadata": {},
   "outputs": [
    {
     "data": {
      "image/png": "[encoded data removed]",
      "text/plain": [
       "<Figure size 640x480 with 1 Axes>"
      ]
     },
     "metadata": {},
     "output_type": "display_data"
    }
   ],
   "source": [
    "fig = plot.figure()\n",
    "ax = plot.axes(projection='3d',)\n",
    "plot.plot(0, 0, 0, 'ro')\n",
    "ax.scatter3D(list(temp['x']), list(temp['y']), list(temp['function']))\n",
    "plot.savefig('./data.png')\n",
    "plot.show()"
   ]
  },
  {
   "cell_type": "code",
   "execution_count": 7,
   "metadata": {},
   "outputs": [
    {
     "data": {
      "image/png": "[encoded data removed]",
      "text/plain": [
       "<Figure size 640x480 with 1 Axes>"
      ]
     },
     "metadata": {},
     "output_type": "display_data"
    }
   ],
   "source": [
    "fig = plot.figure()\n",
    "plot.plot(0, 0, 0, 'ro')\n",
    "plot.tricontourf(list(temp['x']), list(temp['y']), list(temp['function']))\n",
    "# plot.savefig('./data.png')\n",
    "plot.show()"
   ]
  },
  {
   "cell_type": "markdown",
   "metadata": {},
   "source": [
    "### Question - 2.1 - Optimising the function using gradient descent\n",
    "Notes: \n",
    "1. To avoid overflow, there has been a max limit set up on the inital parameters. \n",
    "2. Even in that case, we can possibly encounter some cases of overflows. Hence, the random initialisation has been used to ease testing. In case you notice overflow messages, like the one in ```/q2/overflow.png```, re-run the cell.\n",
    "3. Initial Parameters:\n",
    "   1. Loss for convergence - stored in variable ```tolerence``` = 0.0001\n",
    "   2. Learning Rate - stored in variable ```learning_rate``` = 0.02\n",
    "   3. Max Epochs - Stored in variable ```epochs``` = 10000"
   ]
  },
  {
   "cell_type": "markdown",
   "metadata": {},
   "source": [
    "#### Movement Plotter"
   ]
  },
  {
   "cell_type": "code",
   "execution_count": 8,
   "metadata": {},
   "outputs": [],
   "source": [
    "def contour_plot(seq_1, loss_seq_1, ground_truth):\n",
    "    fig = plot.figure()\n",
    "    ax = plot.axes()\n",
    "    x = list(seq_1[0])\n",
    "    y = list(seq_1[1])\n",
    "    z = loss_seq_1\n",
    "    plot.plot(ground_truth[0], ground_truth[1], 'yo')\n",
    "    plot.tricontourf(list(temp['x']), list(temp['y']), list(temp['function']))\n",
    "    for i in range(len(seq_1)-1):\n",
    "        plot.arrow(x=x[i], y =y[i], dx = x[i+1] - x[i], dy = y[i+1] - y[i], width=0.01)\n",
    "    plot.tight_layout()\n",
    "    plot.show()"
   ]
  },
  {
   "cell_type": "markdown",
   "metadata": {},
   "source": [
    "#### Initial Parameters"
   ]
  },
  {
   "cell_type": "code",
   "execution_count": 9,
   "metadata": {},
   "outputs": [],
   "source": [
    "epochs = 10000\n",
    "learning_rate = 0.002 # Is kind of safe learning rate\n",
    "max_limit_1 = 1\n",
    "# w_init = np.array([random.uniform(-1*max_limit_1, max_limit_1), random.uniform(-1*max_limit_1, max_limit_1)])\n",
    "w_init = np.array([1, 2])\n",
    "tolerence = 0.0001"
   ]
  },
  {
   "cell_type": "code",
   "execution_count": 10,
   "metadata": {},
   "outputs": [],
   "source": [
    "def gradient_function(parameters):\n",
    "    x = parameters[0]\n",
    "    y = parameters[1]\n",
    "    dx = 2*x - 400*(x*(y - x**2))\n",
    "    dy = 200*(y - x**2)\n",
    "    return np.array([dx, dy])\n",
    "def gradient_descent_step(weight_now, learning_rate, tolerence):\n",
    "    gradient = gradient_function(weight_now)\n",
    "    # print(gradient)\n",
    "    weight_new = weight_now - learning_rate*gradient\n",
    "    loss = rosenborck_function(weight_new[0], weight_new[1])\n",
    "    if(loss < tolerence):\n",
    "        print(\"Loss: \", loss)\n",
    "        return weight_new, 0, loss\n",
    "    return weight_new, 1, loss\n"
   ]
  },
  {
   "cell_type": "code",
   "execution_count": 11,
   "metadata": {},
   "outputs": [
    {
     "name": "stdout",
     "output_type": "stream",
     "text": [
      "Initial Parameters:\n",
      "[1 2]\n",
      "Loss:  9.951741904049882e-05\n",
      "Epochs:  1612\n",
      "Final Paramters\n",
      "[-0.00997582  0.00010154]\n"
     ]
    }
   ],
   "source": [
    "w_now = w_init\n",
    "print(\"Initial Parameters:\")\n",
    "print(w_init)\n",
    "seq_1 = []\n",
    "loss_seq_1 = []\n",
    "for i in range(epochs):\n",
    "    seq_1 += [w_now]\n",
    "    w_now, cont, loss = gradient_descent_step(w_now, learning_rate=learning_rate, tolerence=tolerence)\n",
    "    loss_seq_1 += [loss]\n",
    "    if(not cont):\n",
    "        print(\"Epochs: \", i+1)\n",
    "        break\n",
    "if(cont):\n",
    "    print(\"Epochs\", epochs)\n",
    "print(\"Final Paramters\")\n",
    "print(w_now)"
   ]
  },
  {
   "cell_type": "code",
   "execution_count": 12,
   "metadata": {},
   "outputs": [
    {
     "data": {
      "image/png": "[encoded data removed]",
      "text/plain": [
       "<Figure size 640x480 with 1 Axes>"
      ]
     },
     "metadata": {},
     "output_type": "display_data"
    }
   ],
   "source": [
    "ground_truth = [0, 0]\n",
    "seq_1 = pd.DataFrame(seq_1)\n",
    "contour_plot(seq_1, loss_seq_1, ground_truth)"
   ]
  },
  {
   "cell_type": "markdown",
   "metadata": {},
   "source": [
    "### Question - 2.2 - Optimising the Rosenbrock function using momentum update\n",
    "Notes:\n",
    "1. We have used the same initialisation vector we have previously used for the normal gradient descent method. "
   ]
  },
  {
   "cell_type": "code",
   "execution_count": 13,
   "metadata": {},
   "outputs": [],
   "source": [
    "epochs = 10000\n",
    "learning_rate = 0.001\n",
    "beta = 0.8\n",
    "tolerence = 0.001\n",
    "max_limit_2 = 1\n",
    "w_init = w_init\n",
    "mom_init = np.array([0, 0])"
   ]
  },
  {
   "cell_type": "code",
   "execution_count": 14,
   "metadata": {},
   "outputs": [],
   "source": [
    "def polyak_update(w_now, mom_now, learning_rate, beta, tolerence):\n",
    "    '''\n",
    "    For a given value of weight, momentum, it does a polyak momentum\n",
    "    and returns the new weight, momentum, and loss\n",
    "    '''\n",
    "    mom_new = beta*mom_now - learning_rate*gradient_function(w_now)\n",
    "    w_new = w_now + mom_new\n",
    "    loss = rosenborck_function(w_new[0], w_new[1])\n",
    "    if(loss < tolerence):\n",
    "        print(\"Loss: \")\n",
    "        print(loss)\n",
    "        return w_new, mom_new, loss, 0\n",
    "    return w_new, mom_new, loss, 1"
   ]
  },
  {
   "cell_type": "code",
   "execution_count": 15,
   "metadata": {},
   "outputs": [
    {
     "name": "stdout",
     "output_type": "stream",
     "text": [
      "Initial Paramters: \n",
      "[1 2]\n",
      "Loss: \n",
      "0.0009910846841551075\n",
      "Epochs: 534\n",
      "Final Parameters:\n",
      "[0.03148092 0.00101018]\n"
     ]
    }
   ],
   "source": [
    "seq_2 = []\n",
    "loss_seq_2 = []\n",
    "w_now = w_init\n",
    "mom_now = mom_init\n",
    "print(\"Initial Paramters: \")\n",
    "print(w_init)\n",
    "for i in range(epochs):\n",
    "    seq_2 += [w_now]\n",
    "    w_now, mom_now, loss, cont = polyak_update(w_now, mom_now, learning_rate, beta, tolerence)\n",
    "    loss_seq_2 += [loss]\n",
    "    if(not cont):\n",
    "        print(\"Epochs:\", i+1)\n",
    "        break\n",
    "if(cont):\n",
    "    print(\"Epochs:\", loss)\n",
    "print(\"Final Parameters:\")\n",
    "print(w_now)"
   ]
  },
  {
   "cell_type": "code",
   "execution_count": 16,
   "metadata": {},
   "outputs": [
    {
     "data": {
      "image/png": "[encoded data removed]",
      "text/plain": [
       "<Figure size 640x480 with 1 Axes>"
      ]
     },
     "metadata": {},
     "output_type": "display_data"
    }
   ],
   "source": [
    "ground_truth = [0, 0]\n",
    "seq_2 = pd.DataFrame(seq_2)\n",
    "contour_plot(seq_2, loss_seq_1, ground_truth)"
   ]
  },
  {
   "cell_type": "markdown",
   "metadata": {},
   "source": [
    "### Question - 2.3 - Nesterov's Accelerated Gradient"
   ]
  },
  {
   "cell_type": "code",
   "execution_count": 17,
   "metadata": {},
   "outputs": [],
   "source": [
    "epochs = 10000\n",
    "learning_rate = 0.0009\n",
    "beta = 0.9\n",
    "w_now = w_init\n",
    "tolerence = 0.001\n",
    "mom_init = np.array([0, 0])\n",
    "mom_now = mom_init"
   ]
  },
  {
   "cell_type": "code",
   "execution_count": 18,
   "metadata": {},
   "outputs": [],
   "source": [
    "def nesterov_update(w_now, mom_now, learning_rate, beta, tolerence):\n",
    "    mom_new = beta*mom_now - learning_rate*gradient_function(w_now + beta*mom_now)\n",
    "    w_new = w_now + mom_new\n",
    "    loss = rosenborck_function(w_new[0], w_new[1])\n",
    "    if(loss < tolerence):\n",
    "        print(\"Loss: \")\n",
    "        print(loss)\n",
    "        return w_new, mom_new, loss, 0\n",
    "    return w_new, mom_new, loss, 1"
   ]
  },
  {
   "cell_type": "code",
   "execution_count": 19,
   "metadata": {},
   "outputs": [
    {
     "name": "stdout",
     "output_type": "stream",
     "text": [
      "Initial Paramters:\n",
      "[1 2]\n",
      "Loss: \n",
      "0.0009567865706106892\n",
      "Epochs:  142\n",
      "Final Parameters\n",
      "[-0.03093158  0.00097219]\n"
     ]
    }
   ],
   "source": [
    "seq_3 = []\n",
    "loss_seq_3 = []\n",
    "print(\"Initial Paramters:\")\n",
    "print(w_now)\n",
    "for i in range(epochs):\n",
    "    seq_3 += [w_now]\n",
    "    w_now, mom_now, loss, cont = nesterov_update(w_now, mom_now, learning_rate, beta, tolerence)\n",
    "    loss_seq_3 += [loss]\n",
    "    if(not cont):\n",
    "        print(\"Epochs: \", i+1)\n",
    "        break\n",
    "if(cont):\n",
    "    print(\"Epochs:\", epochs)\n",
    "print(\"Final Parameters\")\n",
    "print(w_now)"
   ]
  },
  {
   "cell_type": "code",
   "execution_count": 20,
   "metadata": {},
   "outputs": [
    {
     "data": {
      "image/png": "[encoded data removed]",
      "text/plain": [
       "<Figure size 640x480 with 1 Axes>"
      ]
     },
     "metadata": {},
     "output_type": "display_data"
    }
   ],
   "source": [
    "ground_truth = [0, 0]\n",
    "seq_3 = pd.DataFrame(seq_3)\n",
    "contour_plot(seq_3, loss_seq_3, ground_truth)"
   ]
  },
  {
   "cell_type": "markdown",
   "metadata": {},
   "source": [
    "### Question - 2.4 - Adam Optimizer\n",
    "\n",
    "Notes: \n",
    "1. The parameters are chosen from the following website, being optimum for a general problem.\n",
    "2. "
   ]
  },
  {
   "cell_type": "code",
   "execution_count": 21,
   "metadata": {},
   "outputs": [],
   "source": [
    "alpha = 0.001\n",
    "beta_1 = 0.9\n",
    "beta_2 = 0.9\n",
    "epsilon = 1e-08\n",
    "learning_rate = 0.2\n",
    "w_now = w_init\n",
    "mom_now = mom_init\n",
    "mom_s_now = np.array([0, 0])\n",
    "tolerence = 0.001"
   ]
  },
  {
   "cell_type": "code",
   "execution_count": 22,
   "metadata": {},
   "outputs": [],
   "source": [
    "def adam_update(w_now, mom_now, mom_s_now, learning_rate, tolerence, beta_1, beta_2, epsilon, iteration):\n",
    "    gradient = gradient_function(w_now)\n",
    "    mom_new = beta_1*mom_now + (1- beta_1)*(gradient)\n",
    "    mom_s_new = beta_2*(mom_s_now) + (1 - beta_2)*(gradient**2)\n",
    "    w_new = [0]*len(w_now)\n",
    "    for i in range(len(w_new)):\n",
    "        w_new[i] = w_now[i] - (learning_rate*(mom_new[i])/(np.sqrt(mom_s_new[i]) + epsilon))\n",
    "    # print(w_new)\n",
    "    w_new = np.array(w_new)\n",
    "    # w_new = w_now - learning_rate*(alpha*mom_new)/(np.sqrt(mom_s_new + epsilon))\n",
    "    loss = rosenborck_function(w_new[0], w_new[1])\n",
    "    if(loss < tolerence):\n",
    "        print(\"Loss:\")\n",
    "        print(loss)\n",
    "        return w_new, mom_new, mom_s_new,loss, 0\n",
    "    return w_new, mom_new, mom_s_new,loss,  1"
   ]
  },
  {
   "cell_type": "code",
   "execution_count": 23,
   "metadata": {},
   "outputs": [
    {
     "name": "stdout",
     "output_type": "stream",
     "text": [
      "Initial Paramters:\n",
      "[1 2]\n",
      "Loss:\n",
      "0.0002884215008212025\n",
      "Epochs:  119\n",
      "Final Parameters\n",
      "[0.0169581  0.00037947]\n"
     ]
    }
   ],
   "source": [
    "seq_4 = []\n",
    "loss_seq_4 = []\n",
    "print(\"Initial Paramters:\")\n",
    "print(w_now)\n",
    "# print(w_now, mom_now, mom_s_now, learning_rate, tolerence, beta_1, beta_2, alpha, epsilon)\n",
    "for i in range(epochs):\n",
    "    seq_4 += [w_now]\n",
    "    w_now, mom_now, mom_s_now, loss, cont = adam_update(w_now, mom_now, mom_s_now, learning_rate, tolerence, beta_1, beta_2, epsilon, i+1)\n",
    "    loss_seq_4 += [loss]\n",
    "    if(not cont):\n",
    "        print(\"Epochs: \", i+1)\n",
    "        break\n",
    "if(cont):\n",
    "    print(\"No Convergence\")\n",
    "else:\n",
    "    print(\"Final Parameters\")\n",
    "    print(w_now)    "
   ]
  },
  {
   "cell_type": "code",
   "execution_count": 24,
   "metadata": {},
   "outputs": [
    {
     "data": {
      "image/png": "[encoded data removed]",
      "text/plain": [
       "<Figure size 640x480 with 1 Axes>"
      ]
     },
     "metadata": {},
     "output_type": "display_data"
    }
   ],
   "source": [
    "ground_truth = [0, 0]\n",
    "seq_4 = pd.DataFrame(seq_4)\n",
    "contour_plot(seq_4, loss_seq_4, ground_truth)"
   ]
  }
 ],
 "metadata": {
  "kernelspec": {
   "display_name": "Python 3 (ipykernel)",
   "language": "python",
   "name": "python3"
  },
  "language_info": {
   "codemirror_mode": {
    "name": "ipython",
    "version": 3
   },
   "file_extension": ".py",
   "mimetype": "text/x-python",
   "name": "python",
   "nbconvert_exporter": "python",
   "pygments_lexer": "ipython3",
   "version": "3.10.6"
  },
  "vscode": {
   "interpreter": {
    "hash": "aee8b7b246df8f9039afb4144a1f6fd8d2ca17a180786b69acc140d282b71a49"
   }
  }
 },
 "nbformat": 4,
 "nbformat_minor": 2
}
