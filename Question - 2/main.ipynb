{
 "cells": [
  {
   "cell_type": "markdown",
   "metadata": {},
   "source": [
    "# Question - 2"
   ]
  },
  {
   "cell_type": "code",
   "execution_count": 234,
   "metadata": {},
   "outputs": [],
   "source": [
    "import numpy as np\n",
    "import pickle as pkl\n",
    "import pandas as pd\n",
    "import matplotlib.pyplot as plot\n",
    "import random\n",
    "from mpl_toolkits import mplot3d\n",
    "import matplotlib.axes as axes"
   ]
  },
  {
   "cell_type": "markdown",
   "metadata": {},
   "source": [
    "### Generating The datasets"
   ]
  },
  {
   "cell_type": "code",
   "execution_count": 235,
   "metadata": {},
   "outputs": [],
   "source": [
    "def rosenborck_function(x, y):\n",
    "    return x**2 + 100*((y-x**2)**2)\n",
    "\n",
    "def generate_points(n, t):\n",
    "    '''\n",
    "    We shall use this function to generate the points with random initialisation \n",
    "    as mentioned in the question. We shall take the points from the range ...\n",
    "    [-10, 10]^2\n",
    "    x is the 1st argument\n",
    "    y is the 2nd argument\n",
    "    '''\n",
    "    training_set_x = []\n",
    "    training_set_y = []\n",
    "    for i in range(n):\n",
    "        training_set_x += [[random.uniform(-t, t), random.uniform(-t, t)]]\n",
    "        training_set_y += [rosenborck_function(training_set_x[i][0], training_set_x[i][1])]\n",
    "    training_set_y = np.array(training_set_y)\n",
    "    training_set_x = np.array(training_set_x)\n",
    "    return training_set_x, training_set_y\n",
    "data_points = 500\n",
    "t = 2\n",
    "training_set_x, training_set_y = generate_points(data_points, t)"
   ]
  },
  {
   "cell_type": "code",
   "execution_count": 236,
   "metadata": {},
   "outputs": [
    {
     "data": {
      "text/html": [
       "<div>\n",
       "<style scoped>\n",
       "    .dataframe tbody tr th:only-of-type {\n",
       "        vertical-align: middle;\n",
       "    }\n",
       "\n",
       "    .dataframe tbody tr th {\n",
       "        vertical-align: top;\n",
       "    }\n",
       "\n",
       "    .dataframe thead th {\n",
       "        text-align: right;\n",
       "    }\n",
       "</style>\n",
       "<table border=\"1\" class=\"dataframe\">\n",
       "  <thead>\n",
       "    <tr style=\"text-align: right;\">\n",
       "      <th></th>\n",
       "      <th>0</th>\n",
       "    </tr>\n",
       "  </thead>\n",
       "  <tbody>\n",
       "    <tr>\n",
       "      <th>0</th>\n",
       "      <td>287.895203</td>\n",
       "    </tr>\n",
       "    <tr>\n",
       "      <th>1</th>\n",
       "      <td>36.364266</td>\n",
       "    </tr>\n",
       "    <tr>\n",
       "      <th>2</th>\n",
       "      <td>139.987962</td>\n",
       "    </tr>\n",
       "    <tr>\n",
       "      <th>3</th>\n",
       "      <td>22.084016</td>\n",
       "    </tr>\n",
       "    <tr>\n",
       "      <th>4</th>\n",
       "      <td>565.567775</td>\n",
       "    </tr>\n",
       "    <tr>\n",
       "      <th>...</th>\n",
       "      <td>...</td>\n",
       "    </tr>\n",
       "    <tr>\n",
       "      <th>495</th>\n",
       "      <td>14.347358</td>\n",
       "    </tr>\n",
       "    <tr>\n",
       "      <th>496</th>\n",
       "      <td>795.033539</td>\n",
       "    </tr>\n",
       "    <tr>\n",
       "      <th>497</th>\n",
       "      <td>1393.917681</td>\n",
       "    </tr>\n",
       "    <tr>\n",
       "      <th>498</th>\n",
       "      <td>80.193367</td>\n",
       "    </tr>\n",
       "    <tr>\n",
       "      <th>499</th>\n",
       "      <td>59.623099</td>\n",
       "    </tr>\n",
       "  </tbody>\n",
       "</table>\n",
       "<p>500 rows × 1 columns</p>\n",
       "</div>"
      ],
      "text/plain": [
       "               0\n",
       "0     287.895203\n",
       "1      36.364266\n",
       "2     139.987962\n",
       "3      22.084016\n",
       "4     565.567775\n",
       "..           ...\n",
       "495    14.347358\n",
       "496   795.033539\n",
       "497  1393.917681\n",
       "498    80.193367\n",
       "499    59.623099\n",
       "\n",
       "[500 rows x 1 columns]"
      ]
     },
     "execution_count": 236,
     "metadata": {},
     "output_type": "execute_result"
    }
   ],
   "source": [
    "pd.DataFrame(training_set_y)"
   ]
  },
  {
   "cell_type": "code",
   "execution_count": 237,
   "metadata": {},
   "outputs": [
    {
     "data": {
      "text/html": [
       "<div>\n",
       "<style scoped>\n",
       "    .dataframe tbody tr th:only-of-type {\n",
       "        vertical-align: middle;\n",
       "    }\n",
       "\n",
       "    .dataframe tbody tr th {\n",
       "        vertical-align: top;\n",
       "    }\n",
       "\n",
       "    .dataframe thead th {\n",
       "        text-align: right;\n",
       "    }\n",
       "</style>\n",
       "<table border=\"1\" class=\"dataframe\">\n",
       "  <thead>\n",
       "    <tr style=\"text-align: right;\">\n",
       "      <th></th>\n",
       "      <th>0</th>\n",
       "      <th>1</th>\n",
       "    </tr>\n",
       "  </thead>\n",
       "  <tbody>\n",
       "    <tr>\n",
       "      <th>0</th>\n",
       "      <td>-1.576055</td>\n",
       "      <td>0.794536</td>\n",
       "    </tr>\n",
       "    <tr>\n",
       "      <th>1</th>\n",
       "      <td>0.791714</td>\n",
       "      <td>0.029003</td>\n",
       "    </tr>\n",
       "    <tr>\n",
       "      <th>2</th>\n",
       "      <td>0.781454</td>\n",
       "      <td>1.791252</td>\n",
       "    </tr>\n",
       "    <tr>\n",
       "      <th>3</th>\n",
       "      <td>-0.475211</td>\n",
       "      <td>0.693353</td>\n",
       "    </tr>\n",
       "    <tr>\n",
       "      <th>4</th>\n",
       "      <td>-1.417492</td>\n",
       "      <td>-0.364656</td>\n",
       "    </tr>\n",
       "    <tr>\n",
       "      <th>...</th>\n",
       "      <td>...</td>\n",
       "      <td>...</td>\n",
       "    </tr>\n",
       "    <tr>\n",
       "      <th>495</th>\n",
       "      <td>-0.856123</td>\n",
       "      <td>1.101924</td>\n",
       "    </tr>\n",
       "    <tr>\n",
       "      <th>496</th>\n",
       "      <td>-1.212114</td>\n",
       "      <td>-1.347807</td>\n",
       "    </tr>\n",
       "    <tr>\n",
       "      <th>497</th>\n",
       "      <td>-1.477513</td>\n",
       "      <td>-1.547550</td>\n",
       "    </tr>\n",
       "    <tr>\n",
       "      <th>498</th>\n",
       "      <td>0.967989</td>\n",
       "      <td>1.827262</td>\n",
       "    </tr>\n",
       "    <tr>\n",
       "      <th>499</th>\n",
       "      <td>-1.025584</td>\n",
       "      <td>1.817141</td>\n",
       "    </tr>\n",
       "  </tbody>\n",
       "</table>\n",
       "<p>500 rows × 2 columns</p>\n",
       "</div>"
      ],
      "text/plain": [
       "            0         1\n",
       "0   -1.576055  0.794536\n",
       "1    0.791714  0.029003\n",
       "2    0.781454  1.791252\n",
       "3   -0.475211  0.693353\n",
       "4   -1.417492 -0.364656\n",
       "..        ...       ...\n",
       "495 -0.856123  1.101924\n",
       "496 -1.212114 -1.347807\n",
       "497 -1.477513 -1.547550\n",
       "498  0.967989  1.827262\n",
       "499 -1.025584  1.817141\n",
       "\n",
       "[500 rows x 2 columns]"
      ]
     },
     "execution_count": 237,
     "metadata": {},
     "output_type": "execute_result"
    }
   ],
   "source": [
    "pd.DataFrame(training_set_x)"
   ]
  },
  {
   "cell_type": "code",
   "execution_count": 238,
   "metadata": {},
   "outputs": [
    {
     "data": {
      "text/html": [
       "<div>\n",
       "<style scoped>\n",
       "    .dataframe tbody tr th:only-of-type {\n",
       "        vertical-align: middle;\n",
       "    }\n",
       "\n",
       "    .dataframe tbody tr th {\n",
       "        vertical-align: top;\n",
       "    }\n",
       "\n",
       "    .dataframe thead th {\n",
       "        text-align: right;\n",
       "    }\n",
       "</style>\n",
       "<table border=\"1\" class=\"dataframe\">\n",
       "  <thead>\n",
       "    <tr style=\"text-align: right;\">\n",
       "      <th></th>\n",
       "      <th>x</th>\n",
       "      <th>y</th>\n",
       "      <th>function</th>\n",
       "    </tr>\n",
       "  </thead>\n",
       "  <tbody>\n",
       "    <tr>\n",
       "      <th>0</th>\n",
       "      <td>-1.576055</td>\n",
       "      <td>0.794536</td>\n",
       "      <td>287.895203</td>\n",
       "    </tr>\n",
       "    <tr>\n",
       "      <th>1</th>\n",
       "      <td>-1.576055</td>\n",
       "      <td>0.029003</td>\n",
       "      <td>605.159346</td>\n",
       "    </tr>\n",
       "    <tr>\n",
       "      <th>2</th>\n",
       "      <td>-1.576055</td>\n",
       "      <td>1.791252</td>\n",
       "      <td>50.466809</td>\n",
       "    </tr>\n",
       "    <tr>\n",
       "      <th>3</th>\n",
       "      <td>-1.576055</td>\n",
       "      <td>0.693353</td>\n",
       "      <td>323.107123</td>\n",
       "    </tr>\n",
       "    <tr>\n",
       "      <th>4</th>\n",
       "      <td>-1.576055</td>\n",
       "      <td>-0.364656</td>\n",
       "      <td>813.938693</td>\n",
       "    </tr>\n",
       "    <tr>\n",
       "      <th>...</th>\n",
       "      <td>...</td>\n",
       "      <td>...</td>\n",
       "      <td>...</td>\n",
       "    </tr>\n",
       "    <tr>\n",
       "      <th>249995</th>\n",
       "      <td>-1.025584</td>\n",
       "      <td>1.101924</td>\n",
       "      <td>1.302845</td>\n",
       "    </tr>\n",
       "    <tr>\n",
       "      <th>249996</th>\n",
       "      <td>-1.025584</td>\n",
       "      <td>-1.347807</td>\n",
       "      <td>576.873807</td>\n",
       "    </tr>\n",
       "    <tr>\n",
       "      <th>249997</th>\n",
       "      <td>-1.025584</td>\n",
       "      <td>-1.547550</td>\n",
       "      <td>676.725366</td>\n",
       "    </tr>\n",
       "    <tr>\n",
       "      <th>249998</th>\n",
       "      <td>-1.025584</td>\n",
       "      <td>1.827262</td>\n",
       "      <td>61.182640</td>\n",
       "    </tr>\n",
       "    <tr>\n",
       "      <th>249999</th>\n",
       "      <td>-1.025584</td>\n",
       "      <td>1.817141</td>\n",
       "      <td>59.623099</td>\n",
       "    </tr>\n",
       "  </tbody>\n",
       "</table>\n",
       "<p>250000 rows × 3 columns</p>\n",
       "</div>"
      ],
      "text/plain": [
       "               x         y    function\n",
       "0      -1.576055  0.794536  287.895203\n",
       "1      -1.576055  0.029003  605.159346\n",
       "2      -1.576055  1.791252   50.466809\n",
       "3      -1.576055  0.693353  323.107123\n",
       "4      -1.576055 -0.364656  813.938693\n",
       "...          ...       ...         ...\n",
       "249995 -1.025584  1.101924    1.302845\n",
       "249996 -1.025584 -1.347807  576.873807\n",
       "249997 -1.025584 -1.547550  676.725366\n",
       "249998 -1.025584  1.827262   61.182640\n",
       "249999 -1.025584  1.817141   59.623099\n",
       "\n",
       "[250000 rows x 3 columns]"
      ]
     },
     "execution_count": 238,
     "metadata": {},
     "output_type": "execute_result"
    }
   ],
   "source": [
    "def plot_points(training_set_x, training_set_y):\n",
    "    # fig = plot.figure()\n",
    "    # ax = plot.axes(projection = '3d', )\n",
    "    # ax.scatter3D([i[0] for i in training_set_x], [i[1] for i in training_set_x], training_set_y, color = 'black')\n",
    "    z = []\n",
    "    for i in range(len(training_set_x)):\n",
    "        for j in range(len(training_set_x)):\n",
    "            temp_dict = dict()\n",
    "            temp_dict['x'] = training_set_x[i][0]\n",
    "            temp_dict['y'] = training_set_x[j][1]\n",
    "            temp_dict['function'] = rosenborck_function(training_set_x[i][0], training_set_x[j][1])\n",
    "            z += [temp_dict]\n",
    "    return z\n",
    "temp = pd.DataFrame(plot_points(training_set_x, training_set_y))\n",
    "temp"
   ]
  },
  {
   "cell_type": "code",
   "execution_count": 239,
   "metadata": {},
   "outputs": [
    {
     "data": {
      "image/png": "[encoded data removed]",
      "text/plain": [
       "<Figure size 640x480 with 1 Axes>"
      ]
     },
     "metadata": {},
     "output_type": "display_data"
    }
   ],
   "source": [
    "fig = plot.figure()\n",
    "ax = plot.axes(projection='3d',)\n",
    "plot.plot(0, 0, 0, 'ro')\n",
    "ax.scatter3D(list(temp['x']), list(temp['y']), list(temp['function']))\n",
    "plot.savefig('./data.png')\n",
    "plot.show()"
   ]
  },
  {
   "cell_type": "code",
   "execution_count": 240,
   "metadata": {},
   "outputs": [
    {
     "data": {
      "image/png": "[encoded data removed]",
      "text/plain": [
       "<Figure size 640x480 with 1 Axes>"
      ]
     },
     "metadata": {},
     "output_type": "display_data"
    }
   ],
   "source": [
    "fig = plot.figure()\n",
    "plot.plot(0, 0, 0, 'ro')\n",
    "plot.tricontourf(list(temp['x']), list(temp['y']), list(temp['function']))\n",
    "# plot.savefig('./data.png')\n",
    "plot.show()"
   ]
  },
  {
   "cell_type": "markdown",
   "metadata": {},
   "source": [
    "### Question - 2.1 - Optimising the function using gradient descent\n",
    "Notes: \n",
    "1. To avoid overflow, there has been a max limit set up on the inital parameters. \n",
    "2. Even in that case, we can possibly encounter some cases of overflows. Hence, the random initialisation has been used to ease testing. In case you notice overflow messages, like the one in ```/q2/overflow.png```, re-run the cell.\n",
    "3. Initial Parameters:\n",
    "   1. Loss for convergence - stored in variable ```tolerence``` = 0.0001\n",
    "   2. Learning Rate - stored in variable ```learning_rate``` = 0.02\n",
    "   3. Max Epochs - Stored in variable ```epochs``` = 10000"
   ]
  },
  {
   "cell_type": "markdown",
   "metadata": {},
   "source": [
    "#### Initial Parameters"
   ]
  },
  {
   "cell_type": "code",
   "execution_count": 268,
   "metadata": {},
   "outputs": [],
   "source": [
    "epochs = 10000\n",
    "learning_rate = 0.002 # Is kind of safe learning rate\n",
    "max_limit_1 = 1\n",
    "w_init = np.array([random.uniform(-1*max_limit_1, max_limit_1), random.uniform(-1*max_limit_1, max_limit_1)])\n",
    "tolerence = 0.0001"
   ]
  },
  {
   "cell_type": "code",
   "execution_count": 269,
   "metadata": {},
   "outputs": [],
   "source": [
    "def gradient_function(parameters):\n",
    "    x = parameters[0]\n",
    "    y = parameters[1]\n",
    "    dx = 2*x - 400*(x*(y - x**2))\n",
    "    dy = 200*(y - x**2)\n",
    "    return np.array([dx, dy])\n",
    "def gradient_descent_step(weight_now, learning_rate, tolerence):\n",
    "    gradient = gradient_function(weight_now)\n",
    "    # print(gradient)\n",
    "    weight_new = weight_now - learning_rate*gradient\n",
    "    loss = rosenborck_function(weight_new[0], weight_new[1])\n",
    "    if(loss < tolerence):\n",
    "        print(\"Loss: \", loss)\n",
    "        return weight_new, 0, loss\n",
    "    return weight_new, 1, loss\n"
   ]
  },
  {
   "cell_type": "code",
   "execution_count": 270,
   "metadata": {},
   "outputs": [
    {
     "name": "stdout",
     "output_type": "stream",
     "text": [
      "Initial Parameters:\n",
      "[0.77170595 0.94477644]\n",
      "Loss:  9.96210772082418e-05\n",
      "Epochs:  1544\n",
      "Final Paramters\n",
      "[0.00998102 0.00010165]\n"
     ]
    }
   ],
   "source": [
    "w_now = w_init\n",
    "print(\"Initial Parameters:\")\n",
    "print(w_init)\n",
    "seq_1 = []\n",
    "loss_seq_1 = []\n",
    "for i in range(epochs):\n",
    "    seq_1 += [w_now]\n",
    "    w_now, cont, loss = gradient_descent_step(w_now, learning_rate=learning_rate, tolerence=tolerence)\n",
    "    loss_seq_1 += [loss]\n",
    "    if(not cont):\n",
    "        print(\"Epochs: \", i+1)\n",
    "        break\n",
    "if(cont):\n",
    "    print(\"Epochs\", epochs)\n",
    "print(\"Final Paramters\")\n",
    "print(w_now)"
   ]
  },
  {
   "cell_type": "code",
   "execution_count": 271,
   "metadata": {},
   "outputs": [
    {
     "data": {
      "image/png": "[encoded data removed]",
      "text/plain": [
       "<Figure size 640x480 with 1 Axes>"
      ]
     },
     "metadata": {},
     "output_type": "display_data"
    }
   ],
   "source": [
    "ground_truth = [0, 0]\n",
    "seq_1 = pd.DataFrame(seq_1)\n",
    "def contour_plot(seq_1):\n",
    "    fig = plot.figure()\n",
    "    ax = plot.axes()\n",
    "    x = list(seq_1[0])\n",
    "    y = list(seq_1[1])\n",
    "    z = loss_seq_1\n",
    "    plot.plot(ground_truth[0], ground_truth[1], 'yo')\n",
    "    # [x, y] = np.meshgrid(x, y)\n",
    "    # print(y)\n",
    "    # z = objective_loss_function([x, y], training_set_x, training_set_y, 400)\n",
    "    # z = (x-2)**2 + (y÷3)**2\n",
    "    # print(x.shape)\n",
    "    plot.tricontourf(list(temp['x']), list(temp['y']), list(temp['function']))\n",
    "    for i in range(len(seq_1)-1):\n",
    "        plot.arrow(x=x[i], y =y[i], dx = x[i+1] - x[i], dy = y[i+1] - y[i], width=0.01)\n",
    "    # plot.tight_layout()\n",
    "    plot.show()\n",
    "contour_plot(seq_1)"
   ]
  },
  {
   "cell_type": "markdown",
   "metadata": {},
   "source": [
    "### Question - 2.2 - Optimising the Rosenbrock function using momentum update\n",
    "Notes:\n",
    "1. We have used the same initialisation vector we have previously used for the normal gradient descent method. "
   ]
  },
  {
   "cell_type": "code",
   "execution_count": 272,
   "metadata": {},
   "outputs": [],
   "source": [
    "epochs = 10000\n",
    "learning_rate = 0.001\n",
    "beta = 0.8\n",
    "tolerence = 0.001\n",
    "max_limit_2 = 1\n",
    "w_init = w_init\n",
    "mom_init = np.array([0, 0])"
   ]
  },
  {
   "cell_type": "code",
   "execution_count": 273,
   "metadata": {},
   "outputs": [],
   "source": [
    "def polyak_update(w_now, mom_now, learning_rate, beta, tolerence):\n",
    "    '''\n",
    "    For a given value of weight, momentum, it does a polyak momentum\n",
    "    and returns the new weight, momentum, and loss\n",
    "    '''\n",
    "    mom_new = beta*mom_now + learning_rate*gradient_function(w_now)\n",
    "    w_new = w_now - mom_new\n",
    "    loss = rosenborck_function(w_new[0], w_new[1])\n",
    "    if(loss < tolerence):\n",
    "        print(\"Loss: \")\n",
    "        print(loss)\n",
    "        return w_new, mom_new, loss, 0\n",
    "    return w_new, mom_new, loss, 1"
   ]
  },
  {
   "cell_type": "code",
   "execution_count": 274,
   "metadata": {},
   "outputs": [
    {
     "name": "stdout",
     "output_type": "stream",
     "text": [
      "Initial Paramters: \n",
      "[0.77170595 0.94477644]\n",
      "Loss: \n",
      "0.0009909809314183739\n",
      "Epochs: 469\n",
      "Final Parameters:\n",
      "[0.03147927 0.00101008]\n"
     ]
    }
   ],
   "source": [
    "seq_2 = []\n",
    "loss_seq_2 = []\n",
    "w_now = w_init\n",
    "mom_now = mom_init\n",
    "print(\"Initial Paramters: \")\n",
    "print(w_init)\n",
    "for i in range(epochs):\n",
    "    seq_2 += [w_now]\n",
    "    w_now, mom_now, loss, cont = polyak_update(w_now, mom_now, learning_rate, beta, tolerence)\n",
    "    loss_seq_2 += [loss]\n",
    "    if(not cont):\n",
    "        print(\"Epochs:\", i+1)\n",
    "        break\n",
    "if(cont):\n",
    "    print(\"Epochs:\", loss)\n",
    "print(\"Final Parameters:\")\n",
    "print(w_now)"
   ]
  },
  {
   "cell_type": "code",
   "execution_count": 275,
   "metadata": {},
   "outputs": [
    {
     "data": {
      "image/png": "[encoded data removed]",
      "text/plain": [
       "<Figure size 640x480 with 1 Axes>"
      ]
     },
     "metadata": {},
     "output_type": "display_data"
    }
   ],
   "source": [
    "ground_truth = [0, 0]\n",
    "seq_2 = pd.DataFrame(seq_2)\n",
    "def contour_plot(seq_1):\n",
    "    fig = plot.figure()\n",
    "    ax = plot.axes()\n",
    "    x = list(seq_1[0])\n",
    "    y = list(seq_1[1])\n",
    "    z = loss_seq_2\n",
    "    plot.plot(ground_truth[0], ground_truth[1], 'yo')\n",
    "    # [x, y] = np.meshgrid(x, y)\n",
    "    # print(y)\n",
    "    # z = objective_loss_function([x, y], training_set_x, training_set_y, 400)\n",
    "    # z = (x-2)**2 + (y÷3)**2\n",
    "    # print(x.shape)\n",
    "    plot.tricontourf(list(temp['x']), list(temp['y']), list(temp['function']))\n",
    "    for i in range(len(seq_1)-1):\n",
    "        plot.arrow(x=x[i], y =y[i], dx = x[i+1] - x[i], dy = y[i+1] - y[i], width=0.01)\n",
    "    # plot.tight_layout()\n",
    "    plot.show()\n",
    "contour_plot(seq_2)"
   ]
  },
  {
   "cell_type": "code",
   "execution_count": null,
   "metadata": {},
   "outputs": [],
   "source": []
  },
  {
   "cell_type": "code",
   "execution_count": null,
   "metadata": {},
   "outputs": [],
   "source": []
  },
  {
   "cell_type": "code",
   "execution_count": null,
   "metadata": {},
   "outputs": [],
   "source": []
  }
 ],
 "metadata": {
  "kernelspec": {
   "display_name": "Python 3.10.6 64-bit",
   "language": "python",
   "name": "python3"
  },
  "language_info": {
   "codemirror_mode": {
    "name": "ipython",
    "version": 3
   },
   "file_extension": ".py",
   "mimetype": "text/x-python",
   "name": "python",
   "nbconvert_exporter": "python",
   "pygments_lexer": "ipython3",
   "version": "3.10.6"
  },
  "orig_nbformat": 4,
  "vscode": {
   "interpreter": {
    "hash": "aee8b7b246df8f9039afb4144a1f6fd8d2ca17a180786b69acc140d282b71a49"
   }
  }
 },
 "nbformat": 4,
 "nbformat_minor": 2
}
